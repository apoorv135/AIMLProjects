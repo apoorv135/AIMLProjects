{
 "cells": [
  {
   "cell_type": "code",
   "execution_count": 2,
   "metadata": {},
   "outputs": [],
   "source": [
    "#Invincible_Predictors_Model_Selection\n",
    "\n",
    "#Importing Libraries\n",
    "import pandas as pd\n",
    "import numpy as np\n",
    "import sklearn"
   ]
  },
  {
   "cell_type": "code",
   "execution_count": 3,
   "metadata": {},
   "outputs": [],
   "source": [
    "#Importing CSV Files\n",
    "air_reserve = pd.read_csv('air_reserve.csv',parse_dates=['visit_datetime', 'reserve_datetime'])\n",
    "air_store_info = pd.read_csv('air_store_info.csv')\n",
    "store_id_relation = pd.read_csv('store_id_relation.csv')\n",
    "date_info = pd.read_csv('date_info.csv',parse_dates=['calendar_date'])\n",
    "train = pd.read_csv('train.csv',parse_dates=['visit_date'])"
   ]
  },
  {
   "cell_type": "code",
   "execution_count": 4,
   "metadata": {},
   "outputs": [],
   "source": [
    "#dropping the day of week column as we would already extract it from datetime value.\n",
    "date_info.drop(columns=['day_of_week'],inplace=True)\n",
    "\n",
    "#renaming date column so that it will be useful while merging the holiday flag with training data.\n",
    "date_info.rename(columns={'calendar_date':'visit_date'},inplace=True)"
   ]
  },
  {
   "cell_type": "code",
   "execution_count": 5,
   "metadata": {},
   "outputs": [],
   "source": [
    "#preparing final training dataset by merging relevant features to the train data.\n",
    "train_data = train.merge(air_store_info, how='left', on='air_store_id')\n",
    "\n",
    "#Extracting year month weekday as new features\n",
    "train_data[\"visit_year\"] = pd.DatetimeIndex(train_data['visit_date']).year\n",
    "train_data[\"visit_month\"] = pd.DatetimeIndex(train_data['visit_date']).month\n",
    "train_data[\"visit_weekday\"] = pd.DatetimeIndex(train_data['visit_date']).weekday\n",
    "\n",
    "#Extracting city ward neighbourhood as new features\n",
    "train_data['city'] = train_data['air_area_name'].str.split().str[0]\n",
    "train_data['ward'] = train_data['air_area_name'].str.split().str[1]\n",
    "train_data['neighborhood'] = train_data['air_area_name'].str.split().str[2]\n",
    "\n",
    "#Add holiday flag from date info table\n",
    "train_data = train_data.merge(date_info,how='left',on='visit_date')\n",
    "\n",
    "#Making all object type columns as categorical columns.\n",
    "for col in train_data.columns:\n",
    "    if train_data[col].dtype == 'object':\n",
    "        train_data[col] = train_data[col].astype('category')\n",
    "        \n",
    "#Implementing labelencoding\n",
    "from sklearn.preprocessing import LabelEncoder\n",
    "le = LabelEncoder()\n",
    "\n",
    "for feature in ['city','ward','neighborhood','holiday_flg','air_genre_name','air_area_name']:\n",
    "    train_data[feature] = le.fit_transform(train_data[feature].astype(str))\n",
    "\n",
    "    \n",
    "# #Implementing OneHotEncoding using get dummies method\n",
    "train_data = pd.concat([train_data,pd.get_dummies(train_data['holiday_flg'], prefix='holiday_flg')],axis=1)\n",
    "train_data.drop(['holiday_flg'],axis=1, inplace=True)     "
   ]
  },
  {
   "cell_type": "code",
   "execution_count": 6,
   "metadata": {},
   "outputs": [],
   "source": [
    "#Adding mean median and min max visitors column grouped by air store id and weekday\n",
    "group_by_cols = ['air_store_id','visit_weekday']\n",
    "visitor_stats = train_data\\\n",
    "                .groupby(group_by_cols)\\\n",
    "                ['visitors']\\\n",
    "                .agg(['mean', 'median', 'min','max'])\\\n",
    "                .rename(columns=lambda colname: str(colname)+'_visitors')\\\n",
    "                .reset_index()"
   ]
  },
  {
   "cell_type": "code",
   "execution_count": 7,
   "metadata": {},
   "outputs": [
    {
     "data": {
      "text/html": [
       "<div>\n",
       "<style scoped>\n",
       "    .dataframe tbody tr th:only-of-type {\n",
       "        vertical-align: middle;\n",
       "    }\n",
       "\n",
       "    .dataframe tbody tr th {\n",
       "        vertical-align: top;\n",
       "    }\n",
       "\n",
       "    .dataframe thead th {\n",
       "        text-align: right;\n",
       "    }\n",
       "</style>\n",
       "<table border=\"1\" class=\"dataframe\">\n",
       "  <thead>\n",
       "    <tr style=\"text-align: right;\">\n",
       "      <th></th>\n",
       "      <th>air_store_id</th>\n",
       "      <th>visit_weekday</th>\n",
       "      <th>mean_visitors</th>\n",
       "      <th>median_visitors</th>\n",
       "      <th>min_visitors</th>\n",
       "      <th>max_visitors</th>\n",
       "    </tr>\n",
       "  </thead>\n",
       "  <tbody>\n",
       "    <tr>\n",
       "      <th>0</th>\n",
       "      <td>air_00a91d42b08b08d9</td>\n",
       "      <td>0</td>\n",
       "      <td>22.727273</td>\n",
       "      <td>20.0</td>\n",
       "      <td>1.0</td>\n",
       "      <td>47.0</td>\n",
       "    </tr>\n",
       "    <tr>\n",
       "      <th>1</th>\n",
       "      <td>air_00a91d42b08b08d9</td>\n",
       "      <td>1</td>\n",
       "      <td>23.578947</td>\n",
       "      <td>24.0</td>\n",
       "      <td>1.0</td>\n",
       "      <td>41.0</td>\n",
       "    </tr>\n",
       "    <tr>\n",
       "      <th>2</th>\n",
       "      <td>air_00a91d42b08b08d9</td>\n",
       "      <td>2</td>\n",
       "      <td>28.243243</td>\n",
       "      <td>28.0</td>\n",
       "      <td>15.0</td>\n",
       "      <td>52.0</td>\n",
       "    </tr>\n",
       "    <tr>\n",
       "      <th>3</th>\n",
       "      <td>air_00a91d42b08b08d9</td>\n",
       "      <td>3</td>\n",
       "      <td>29.542857</td>\n",
       "      <td>30.0</td>\n",
       "      <td>15.0</td>\n",
       "      <td>47.0</td>\n",
       "    </tr>\n",
       "    <tr>\n",
       "      <th>4</th>\n",
       "      <td>air_00a91d42b08b08d9</td>\n",
       "      <td>4</td>\n",
       "      <td>36.459459</td>\n",
       "      <td>35.0</td>\n",
       "      <td>20.0</td>\n",
       "      <td>57.0</td>\n",
       "    </tr>\n",
       "    <tr>\n",
       "      <th>...</th>\n",
       "      <td>...</td>\n",
       "      <td>...</td>\n",
       "      <td>...</td>\n",
       "      <td>...</td>\n",
       "      <td>...</td>\n",
       "      <td>...</td>\n",
       "    </tr>\n",
       "    <tr>\n",
       "      <th>5798</th>\n",
       "      <td>air_fff68b929994bfbd</td>\n",
       "      <td>2</td>\n",
       "      <td>4.666667</td>\n",
       "      <td>4.0</td>\n",
       "      <td>1.0</td>\n",
       "      <td>12.0</td>\n",
       "    </tr>\n",
       "    <tr>\n",
       "      <th>5799</th>\n",
       "      <td>air_fff68b929994bfbd</td>\n",
       "      <td>3</td>\n",
       "      <td>4.871795</td>\n",
       "      <td>5.0</td>\n",
       "      <td>1.0</td>\n",
       "      <td>12.0</td>\n",
       "    </tr>\n",
       "    <tr>\n",
       "      <th>5800</th>\n",
       "      <td>air_fff68b929994bfbd</td>\n",
       "      <td>4</td>\n",
       "      <td>5.682927</td>\n",
       "      <td>5.0</td>\n",
       "      <td>1.0</td>\n",
       "      <td>17.0</td>\n",
       "    </tr>\n",
       "    <tr>\n",
       "      <th>5801</th>\n",
       "      <td>air_fff68b929994bfbd</td>\n",
       "      <td>5</td>\n",
       "      <td>7.605263</td>\n",
       "      <td>7.0</td>\n",
       "      <td>2.0</td>\n",
       "      <td>18.0</td>\n",
       "    </tr>\n",
       "    <tr>\n",
       "      <th>5802</th>\n",
       "      <td>air_fff68b929994bfbd</td>\n",
       "      <td>6</td>\n",
       "      <td>3.857143</td>\n",
       "      <td>3.0</td>\n",
       "      <td>1.0</td>\n",
       "      <td>10.0</td>\n",
       "    </tr>\n",
       "  </tbody>\n",
       "</table>\n",
       "<p>5803 rows × 6 columns</p>\n",
       "</div>"
      ],
      "text/plain": [
       "              air_store_id  visit_weekday  mean_visitors  median_visitors  \\\n",
       "0     air_00a91d42b08b08d9              0      22.727273             20.0   \n",
       "1     air_00a91d42b08b08d9              1      23.578947             24.0   \n",
       "2     air_00a91d42b08b08d9              2      28.243243             28.0   \n",
       "3     air_00a91d42b08b08d9              3      29.542857             30.0   \n",
       "4     air_00a91d42b08b08d9              4      36.459459             35.0   \n",
       "...                    ...            ...            ...              ...   \n",
       "5798  air_fff68b929994bfbd              2       4.666667              4.0   \n",
       "5799  air_fff68b929994bfbd              3       4.871795              5.0   \n",
       "5800  air_fff68b929994bfbd              4       5.682927              5.0   \n",
       "5801  air_fff68b929994bfbd              5       7.605263              7.0   \n",
       "5802  air_fff68b929994bfbd              6       3.857143              3.0   \n",
       "\n",
       "      min_visitors  max_visitors  \n",
       "0              1.0          47.0  \n",
       "1              1.0          41.0  \n",
       "2             15.0          52.0  \n",
       "3             15.0          47.0  \n",
       "4             20.0          57.0  \n",
       "...            ...           ...  \n",
       "5798           1.0          12.0  \n",
       "5799           1.0          12.0  \n",
       "5800           1.0          17.0  \n",
       "5801           2.0          18.0  \n",
       "5802           1.0          10.0  \n",
       "\n",
       "[5803 rows x 6 columns]"
      ]
     },
     "execution_count": 7,
     "metadata": {},
     "output_type": "execute_result"
    }
   ],
   "source": [
    "visitor_stats"
   ]
  },
  {
   "cell_type": "code",
   "execution_count": 8,
   "metadata": {},
   "outputs": [],
   "source": [
    "train_data = train_data.merge(visitor_stats,how='left',on=group_by_cols)"
   ]
  },
  {
   "cell_type": "code",
   "execution_count": 81,
   "metadata": {},
   "outputs": [
    {
     "data": {
      "text/html": [
       "<div>\n",
       "<style scoped>\n",
       "    .dataframe tbody tr th:only-of-type {\n",
       "        vertical-align: middle;\n",
       "    }\n",
       "\n",
       "    .dataframe tbody tr th {\n",
       "        vertical-align: top;\n",
       "    }\n",
       "\n",
       "    .dataframe thead th {\n",
       "        text-align: right;\n",
       "    }\n",
       "</style>\n",
       "<table border=\"1\" class=\"dataframe\">\n",
       "  <thead>\n",
       "    <tr style=\"text-align: right;\">\n",
       "      <th></th>\n",
       "      <th>air_store_id</th>\n",
       "      <th>visit_date</th>\n",
       "      <th>visitors</th>\n",
       "      <th>air_genre_name</th>\n",
       "      <th>air_area_name</th>\n",
       "      <th>latitude</th>\n",
       "      <th>longitude</th>\n",
       "      <th>visit_year</th>\n",
       "      <th>visit_month</th>\n",
       "      <th>visit_weekday</th>\n",
       "      <th>city</th>\n",
       "      <th>ward</th>\n",
       "      <th>neighborhood</th>\n",
       "      <th>holiday_flg_0</th>\n",
       "      <th>holiday_flg_1</th>\n",
       "      <th>mean_visitors</th>\n",
       "      <th>median_visitors</th>\n",
       "      <th>min_visitors</th>\n",
       "      <th>max_visitors</th>\n",
       "    </tr>\n",
       "  </thead>\n",
       "  <tbody>\n",
       "    <tr>\n",
       "      <th>0</th>\n",
       "      <td>air_e3020992d5fe5dfd</td>\n",
       "      <td>2016-07-01</td>\n",
       "      <td>21</td>\n",
       "      <td>6</td>\n",
       "      <td>46</td>\n",
       "      <td>35.670651</td>\n",
       "      <td>139.771861</td>\n",
       "      <td>2016</td>\n",
       "      <td>7</td>\n",
       "      <td>4</td>\n",
       "      <td>7</td>\n",
       "      <td>6</td>\n",
       "      <td>90</td>\n",
       "      <td>1</td>\n",
       "      <td>0</td>\n",
       "      <td>15.925000</td>\n",
       "      <td>18.0</td>\n",
       "      <td>3.0</td>\n",
       "      <td>25.0</td>\n",
       "    </tr>\n",
       "    <tr>\n",
       "      <th>1</th>\n",
       "      <td>air_e3020992d5fe5dfd</td>\n",
       "      <td>2016-07-02</td>\n",
       "      <td>19</td>\n",
       "      <td>6</td>\n",
       "      <td>46</td>\n",
       "      <td>35.670651</td>\n",
       "      <td>139.771861</td>\n",
       "      <td>2016</td>\n",
       "      <td>7</td>\n",
       "      <td>5</td>\n",
       "      <td>7</td>\n",
       "      <td>6</td>\n",
       "      <td>90</td>\n",
       "      <td>1</td>\n",
       "      <td>0</td>\n",
       "      <td>13.405405</td>\n",
       "      <td>14.0</td>\n",
       "      <td>2.0</td>\n",
       "      <td>30.0</td>\n",
       "    </tr>\n",
       "    <tr>\n",
       "      <th>2</th>\n",
       "      <td>air_e3020992d5fe5dfd</td>\n",
       "      <td>2016-07-04</td>\n",
       "      <td>8</td>\n",
       "      <td>6</td>\n",
       "      <td>46</td>\n",
       "      <td>35.670651</td>\n",
       "      <td>139.771861</td>\n",
       "      <td>2016</td>\n",
       "      <td>7</td>\n",
       "      <td>0</td>\n",
       "      <td>7</td>\n",
       "      <td>6</td>\n",
       "      <td>90</td>\n",
       "      <td>1</td>\n",
       "      <td>0</td>\n",
       "      <td>9.933333</td>\n",
       "      <td>10.0</td>\n",
       "      <td>2.0</td>\n",
       "      <td>22.0</td>\n",
       "    </tr>\n",
       "    <tr>\n",
       "      <th>3</th>\n",
       "      <td>air_e3020992d5fe5dfd</td>\n",
       "      <td>2016-07-05</td>\n",
       "      <td>11</td>\n",
       "      <td>6</td>\n",
       "      <td>46</td>\n",
       "      <td>35.670651</td>\n",
       "      <td>139.771861</td>\n",
       "      <td>2016</td>\n",
       "      <td>7</td>\n",
       "      <td>1</td>\n",
       "      <td>7</td>\n",
       "      <td>6</td>\n",
       "      <td>90</td>\n",
       "      <td>1</td>\n",
       "      <td>0</td>\n",
       "      <td>11.157895</td>\n",
       "      <td>10.5</td>\n",
       "      <td>2.0</td>\n",
       "      <td>24.0</td>\n",
       "    </tr>\n",
       "    <tr>\n",
       "      <th>4</th>\n",
       "      <td>air_e3020992d5fe5dfd</td>\n",
       "      <td>2016-07-06</td>\n",
       "      <td>16</td>\n",
       "      <td>6</td>\n",
       "      <td>46</td>\n",
       "      <td>35.670651</td>\n",
       "      <td>139.771861</td>\n",
       "      <td>2016</td>\n",
       "      <td>7</td>\n",
       "      <td>2</td>\n",
       "      <td>7</td>\n",
       "      <td>6</td>\n",
       "      <td>90</td>\n",
       "      <td>1</td>\n",
       "      <td>0</td>\n",
       "      <td>12.500000</td>\n",
       "      <td>13.0</td>\n",
       "      <td>2.0</td>\n",
       "      <td>20.0</td>\n",
       "    </tr>\n",
       "  </tbody>\n",
       "</table>\n",
       "</div>"
      ],
      "text/plain": [
       "           air_store_id visit_date  visitors  air_genre_name  air_area_name  \\\n",
       "0  air_e3020992d5fe5dfd 2016-07-01        21               6             46   \n",
       "1  air_e3020992d5fe5dfd 2016-07-02        19               6             46   \n",
       "2  air_e3020992d5fe5dfd 2016-07-04         8               6             46   \n",
       "3  air_e3020992d5fe5dfd 2016-07-05        11               6             46   \n",
       "4  air_e3020992d5fe5dfd 2016-07-06        16               6             46   \n",
       "\n",
       "    latitude   longitude  visit_year  visit_month  visit_weekday  city  ward  \\\n",
       "0  35.670651  139.771861        2016            7              4     7     6   \n",
       "1  35.670651  139.771861        2016            7              5     7     6   \n",
       "2  35.670651  139.771861        2016            7              0     7     6   \n",
       "3  35.670651  139.771861        2016            7              1     7     6   \n",
       "4  35.670651  139.771861        2016            7              2     7     6   \n",
       "\n",
       "   neighborhood  holiday_flg_0  holiday_flg_1  mean_visitors  median_visitors  \\\n",
       "0            90              1              0      15.925000             18.0   \n",
       "1            90              1              0      13.405405             14.0   \n",
       "2            90              1              0       9.933333             10.0   \n",
       "3            90              1              0      11.157895             10.5   \n",
       "4            90              1              0      12.500000             13.0   \n",
       "\n",
       "   min_visitors  max_visitors  \n",
       "0           3.0          25.0  \n",
       "1           2.0          30.0  \n",
       "2           2.0          22.0  \n",
       "3           2.0          24.0  \n",
       "4           2.0          20.0  "
      ]
     },
     "execution_count": 81,
     "metadata": {},
     "output_type": "execute_result"
    }
   ],
   "source": [
    "train_data.head()"
   ]
  },
  {
   "cell_type": "code",
   "execution_count": 9,
   "metadata": {},
   "outputs": [],
   "source": [
    "train_data.to_pickle(\"./ModelTraining_TrainData.pkl\")"
   ]
  },
  {
   "cell_type": "code",
   "execution_count": 10,
   "metadata": {},
   "outputs": [],
   "source": [
    "# Create evaluation function (the competition uses Root Mean Square Log Error)\n",
    "from sklearn.metrics import mean_squared_log_error\n",
    "\n",
    "def rmsle(y_test, y_preds):\n",
    "    return np.sqrt(mean_squared_log_error(y_test, y_preds))"
   ]
  },
  {
   "cell_type": "code",
   "execution_count": 24,
   "metadata": {},
   "outputs": [],
   "source": [
    "#train test split\n",
    "from sklearn.model_selection import train_test_split\n",
    "X = train_data.drop([\"air_store_id\",\"visit_date\",\"visitors\",\"air_area_name\",\"longitude\"], axis=1)\n",
    "y = train_data[\"visitors\"]\n",
    "X_train, X_test, y_train, y_test = train_test_split(X, y, test_size=0.1)"
   ]
  },
  {
   "cell_type": "code",
   "execution_count": 83,
   "metadata": {},
   "outputs": [
    {
     "name": "stdout",
     "output_type": "stream",
     "text": [
      "<class 'pandas.core.frame.DataFrame'>\n",
      "Int64Index: 225227 entries, 0 to 239672\n",
      "Data columns (total 14 columns):\n",
      " #   Column           Non-Null Count   Dtype  \n",
      "---  ------           --------------   -----  \n",
      " 0   air_genre_name   225227 non-null  int32  \n",
      " 1   latitude         225227 non-null  float64\n",
      " 2   visit_year       225227 non-null  int64  \n",
      " 3   visit_month      225227 non-null  int64  \n",
      " 4   visit_weekday    225227 non-null  int64  \n",
      " 5   city             225227 non-null  int32  \n",
      " 6   ward             225227 non-null  int32  \n",
      " 7   neighborhood     225227 non-null  int32  \n",
      " 8   holiday_flg_0    225227 non-null  uint8  \n",
      " 9   holiday_flg_1    225227 non-null  uint8  \n",
      " 10  mean_visitors    225227 non-null  float64\n",
      " 11  median_visitors  225227 non-null  float64\n",
      " 12  min_visitors     225227 non-null  float64\n",
      " 13  max_visitors     225227 non-null  float64\n",
      "dtypes: float64(5), int32(4), int64(3), uint8(2)\n",
      "memory usage: 19.3 MB\n"
     ]
    }
   ],
   "source": [
    "X.info()"
   ]
  },
  {
   "cell_type": "code",
   "execution_count": 73,
   "metadata": {},
   "outputs": [
    {
     "data": {
      "text/plain": [
       "0.5358758809585568"
      ]
     },
     "execution_count": 73,
     "metadata": {},
     "output_type": "execute_result"
    }
   ],
   "source": [
    "#Trying simple Linear Regression model\n",
    "\n",
    "from sklearn.linear_model import LinearRegression\n",
    "lr_model = LinearRegression()\n",
    "lr_model.fit(X_train, y_train)\n",
    "y_preds=lr_model.predict(X_test)\n",
    "rmsle(y_test, y_preds)"
   ]
  },
  {
   "cell_type": "code",
   "execution_count": 74,
   "metadata": {},
   "outputs": [
    {
     "data": {
      "text/plain": [
       "0.5226004963298835"
      ]
     },
     "execution_count": 74,
     "metadata": {},
     "output_type": "execute_result"
    }
   ],
   "source": [
    "#Trying KNeighbors Regression model\n",
    "\n",
    "from sklearn.neighbors import KNeighborsRegressor\n",
    "knr_model = KNeighborsRegressor(n_jobs=-1, n_neighbors=10)\n",
    "knr_model.fit(X_train, y_train)\n",
    "y_preds=knr_model.predict(X_test)\n",
    "rmsle(y_test, y_preds)"
   ]
  },
  {
   "cell_type": "code",
   "execution_count": 75,
   "metadata": {},
   "outputs": [
    {
     "data": {
      "text/plain": [
       "0.5450944134760952"
      ]
     },
     "execution_count": 75,
     "metadata": {},
     "output_type": "execute_result"
    }
   ],
   "source": [
    "#Trying Random Forest Regressor Regression model \n",
    "\n",
    "from sklearn.ensemble import RandomForestRegressor\n",
    "\n",
    "rfrmodel = RandomForestRegressor(n_estimators=20, n_jobs=-1, \n",
    "                                 max_samples=None)\n",
    "\n",
    "rfrmodel.fit(X_train, y_train)\n",
    "y_preds=rfrmodel.predict(X_test)\n",
    "rmsle(y_test, y_preds)"
   ]
  },
  {
   "cell_type": "code",
   "execution_count": 76,
   "metadata": {},
   "outputs": [
    {
     "name": "stderr",
     "output_type": "stream",
     "text": [
      "[Parallel(n_jobs=-1)]: Using backend LokyBackend with 8 concurrent workers.\n",
      "[Parallel(n_jobs=-1)]: Done  56 tasks      | elapsed:  2.8min\n",
      "[Parallel(n_jobs=-1)]: Done 100 out of 100 | elapsed:  4.6min finished\n"
     ]
    },
    {
     "data": {
      "text/plain": [
       "GridSearchCV(cv=5, estimator=RandomForestRegressor(n_estimators=20, n_jobs=-1),\n",
       "             n_jobs=-1,\n",
       "             param_grid={'max_samples': [None],\n",
       "                         'min_samples_leaf': [1, 2, 3, 4, 5],\n",
       "                         'min_samples_split': [1, 5, 10, 15],\n",
       "                         'n_estimators': [20], 'n_jobs': [-1]},\n",
       "             scoring='neg_mean_squared_log_error', verbose=-1)"
      ]
     },
     "execution_count": 76,
     "metadata": {},
     "output_type": "execute_result"
    }
   ],
   "source": [
    "from sklearn.model_selection import GridSearchCV\n",
    "\n",
    "params_grid = { \"n_estimators\": [20], \n",
    "                 \"n_jobs\": [-1], \n",
    "                \"max_samples\": [None],\n",
    "               \"min_samples_split\": [1,5,10,15],\n",
    "               \"min_samples_leaf\": [1,2,3,4,5],\n",
    "               }\n",
    "grid_search = GridSearchCV(rfrmodel, params_grid,\n",
    "                           n_jobs=-1, cv=5,\n",
    "                           verbose=-1, scoring='neg_mean_squared_log_error')\n",
    "grid_search.fit(X_train, y_train)"
   ]
  },
  {
   "cell_type": "code",
   "execution_count": 77,
   "metadata": {},
   "outputs": [
    {
     "data": {
      "text/plain": [
       "{'bootstrap': True,\n",
       " 'ccp_alpha': 0.0,\n",
       " 'criterion': 'mse',\n",
       " 'max_depth': None,\n",
       " 'max_features': 'auto',\n",
       " 'max_leaf_nodes': None,\n",
       " 'max_samples': None,\n",
       " 'min_impurity_decrease': 0.0,\n",
       " 'min_impurity_split': None,\n",
       " 'min_samples_leaf': 5,\n",
       " 'min_samples_split': 15,\n",
       " 'min_weight_fraction_leaf': 0.0,\n",
       " 'n_estimators': 20,\n",
       " 'n_jobs': -1,\n",
       " 'oob_score': False,\n",
       " 'random_state': None,\n",
       " 'verbose': 0,\n",
       " 'warm_start': False}"
      ]
     },
     "execution_count": 77,
     "metadata": {},
     "output_type": "execute_result"
    }
   ],
   "source": [
    "grid_search.best_estimator_.get_params()"
   ]
  },
  {
   "cell_type": "code",
   "execution_count": 78,
   "metadata": {},
   "outputs": [
    {
     "data": {
      "text/plain": [
       "0.5106684368905897"
      ]
     },
     "execution_count": 78,
     "metadata": {},
     "output_type": "execute_result"
    }
   ],
   "source": [
    "#Trying Random Forest Regressor Regression model \n",
    "\n",
    "from sklearn.ensemble import RandomForestRegressor\n",
    "\n",
    "rfrmodel = RandomForestRegressor(n_estimators=200, min_samples_leaf=5,\n",
    "                                 min_samples_split=15,\n",
    "                                 max_features=1, n_jobs=-1, \n",
    "                                 )\n",
    "\n",
    "rfrmodel.fit(X_train, y_train)\n",
    "y_preds=rfrmodel.predict(X_test)\n",
    "rmsle(y_test, y_preds)"
   ]
  },
  {
   "cell_type": "code",
   "execution_count": null,
   "metadata": {},
   "outputs": [],
   "source": []
  }
 ],
 "metadata": {
  "kernelspec": {
   "display_name": "Python 3",
   "language": "python",
   "name": "python3"
  },
  "language_info": {
   "codemirror_mode": {
    "name": "ipython",
    "version": 3
   },
   "file_extension": ".py",
   "mimetype": "text/x-python",
   "name": "python",
   "nbconvert_exporter": "python",
   "pygments_lexer": "ipython3",
   "version": "3.7.1"
  }
 },
 "nbformat": 4,
 "nbformat_minor": 4
}
