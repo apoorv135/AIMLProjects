{
 "cells": [
  {
   "cell_type": "markdown",
   "metadata": {},
   "source": [
    "# Recruit Restaurant Visitor Forecasting\n",
    "## Team Members : \n",
    "* Apoorv Panse\n",
    "* Deepti Chawda\n",
    "* Shahbaz Khan"
   ]
  },
  {
   "cell_type": "markdown",
   "metadata": {},
   "source": [
    "# Project Overview"
   ]
  },
  {
   "cell_type": "markdown",
   "metadata": {},
   "source": [
    "Recruit Holdings has unique access to key datasets that could make automated future customer predictions possible. Specifically, Recruit Holdings owns Hot Pepper Gourmet (a restaurant review service), AirREGI (a restaurant point of sales service), and Restaurant Board (reservation log management software).\n",
    "\n",
    "* This project aims to to use reservation and visitation data to predict the total number of visitors to a restaurant for future dates. This information will help restaurants be much more efficient and allow them to focus on creating an enjoyable dining experience for their customers.\n",
    "* The datasets contain daily and hourly observations. This makes it a __Time Series Forecasting problem.__"
   ]
  },
  {
   "cell_type": "code",
   "execution_count": 1,
   "metadata": {},
   "outputs": [],
   "source": [
    "import pandas as pd\n",
    "import numpy as np\n",
    "import matplotlib.pyplot as plt\n",
    "%matplotlib inline\n",
    "import seaborn as sns"
   ]
  },
  {
   "cell_type": "code",
   "execution_count": 2,
   "metadata": {},
   "outputs": [],
   "source": [
    "pd.set_option(\"display.max_rows\", 20)\n",
    "pd.set_option(\"display.max_columns\", 50)\n",
    "pd.set_option('display.float_format', lambda x: '%.2f' % x)\n",
    "sns.set(color_codes=True)"
   ]
  },
  {
   "cell_type": "markdown",
   "metadata": {},
   "source": [
    "# Air Reserve CSV Analysis"
   ]
  },
  {
   "cell_type": "markdown",
   "metadata": {},
   "source": [
    "__air_reserve__\n",
    "\n",
    "Column Name | Column Description\n",
    "-------------|:------------------\n",
    "air_store_id | restaurant id in the air system\n",
    "visit_datetime| time of the reservation\n",
    "reserve_datetime | time the reservation was made\n",
    "reserve_visitors | number of visitors for that reservation"
   ]
  },
  {
   "cell_type": "code",
   "execution_count": 3,
   "metadata": {},
   "outputs": [],
   "source": [
    "air_reserve = pd.read_csv('air_reserve.csv')"
   ]
  },
  {
   "cell_type": "code",
   "execution_count": 4,
   "metadata": {},
   "outputs": [
    {
     "name": "stdout",
     "output_type": "stream",
     "text": [
      "<class 'pandas.core.frame.DataFrame'>\n",
      "RangeIndex: 92378 entries, 0 to 92377\n",
      "Data columns (total 4 columns):\n",
      " #   Column            Non-Null Count  Dtype \n",
      "---  ------            --------------  ----- \n",
      " 0   air_store_id      92378 non-null  object\n",
      " 1   visit_datetime    92378 non-null  object\n",
      " 2   reserve_datetime  92378 non-null  object\n",
      " 3   reserve_visitors  92378 non-null  int64 \n",
      "dtypes: int64(1), object(3)\n",
      "memory usage: 2.8+ MB\n"
     ]
    }
   ],
   "source": [
    "air_reserve.info()"
   ]
  },
  {
   "cell_type": "markdown",
   "metadata": {},
   "source": [
    "* We have total 92378 rows in the table with 4 columns. \n",
    "* Visit Dates and Reserve Dates are currently object data types, which needs to be converted to __data time format__. "
   ]
  },
  {
   "cell_type": "code",
   "execution_count": 5,
   "metadata": {},
   "outputs": [],
   "source": [
    "#Reimporting the air_reserve csv using pandas inbuilt date time format parsing.\n",
    "air_reserve = air_reserve = pd.read_csv('air_reserve.csv',parse_dates=['visit_datetime', 'reserve_datetime'])"
   ]
  },
  {
   "cell_type": "code",
   "execution_count": 6,
   "metadata": {},
   "outputs": [
    {
     "data": {
      "text/html": [
       "<div>\n",
       "<style scoped>\n",
       "    .dataframe tbody tr th:only-of-type {\n",
       "        vertical-align: middle;\n",
       "    }\n",
       "\n",
       "    .dataframe tbody tr th {\n",
       "        vertical-align: top;\n",
       "    }\n",
       "\n",
       "    .dataframe thead th {\n",
       "        text-align: right;\n",
       "    }\n",
       "</style>\n",
       "<table border=\"1\" class=\"dataframe\">\n",
       "  <thead>\n",
       "    <tr style=\"text-align: right;\">\n",
       "      <th></th>\n",
       "      <th>air_store_id</th>\n",
       "      <th>visit_datetime</th>\n",
       "      <th>reserve_datetime</th>\n",
       "      <th>reserve_visitors</th>\n",
       "    </tr>\n",
       "  </thead>\n",
       "  <tbody>\n",
       "    <tr>\n",
       "      <th>0</th>\n",
       "      <td>air_877f79706adbfb06</td>\n",
       "      <td>2016-01-01 19:00:00</td>\n",
       "      <td>2016-01-01 16:00:00</td>\n",
       "      <td>1</td>\n",
       "    </tr>\n",
       "    <tr>\n",
       "      <th>1</th>\n",
       "      <td>air_db4b38ebe7a7ceff</td>\n",
       "      <td>2016-01-01 19:00:00</td>\n",
       "      <td>2016-01-01 19:00:00</td>\n",
       "      <td>3</td>\n",
       "    </tr>\n",
       "    <tr>\n",
       "      <th>2</th>\n",
       "      <td>air_db4b38ebe7a7ceff</td>\n",
       "      <td>2016-01-01 19:00:00</td>\n",
       "      <td>2016-01-01 19:00:00</td>\n",
       "      <td>6</td>\n",
       "    </tr>\n",
       "    <tr>\n",
       "      <th>3</th>\n",
       "      <td>air_877f79706adbfb06</td>\n",
       "      <td>2016-01-01 20:00:00</td>\n",
       "      <td>2016-01-01 16:00:00</td>\n",
       "      <td>2</td>\n",
       "    </tr>\n",
       "    <tr>\n",
       "      <th>4</th>\n",
       "      <td>air_db80363d35f10926</td>\n",
       "      <td>2016-01-01 20:00:00</td>\n",
       "      <td>2016-01-01 01:00:00</td>\n",
       "      <td>5</td>\n",
       "    </tr>\n",
       "  </tbody>\n",
       "</table>\n",
       "</div>"
      ],
      "text/plain": [
       "           air_store_id      visit_datetime    reserve_datetime  \\\n",
       "0  air_877f79706adbfb06 2016-01-01 19:00:00 2016-01-01 16:00:00   \n",
       "1  air_db4b38ebe7a7ceff 2016-01-01 19:00:00 2016-01-01 19:00:00   \n",
       "2  air_db4b38ebe7a7ceff 2016-01-01 19:00:00 2016-01-01 19:00:00   \n",
       "3  air_877f79706adbfb06 2016-01-01 20:00:00 2016-01-01 16:00:00   \n",
       "4  air_db80363d35f10926 2016-01-01 20:00:00 2016-01-01 01:00:00   \n",
       "\n",
       "   reserve_visitors  \n",
       "0                 1  \n",
       "1                 3  \n",
       "2                 6  \n",
       "3                 2  \n",
       "4                 5  "
      ]
     },
     "execution_count": 6,
     "metadata": {},
     "output_type": "execute_result"
    }
   ],
   "source": [
    "air_reserve.head()"
   ]
  },
  {
   "cell_type": "code",
   "execution_count": 7,
   "metadata": {},
   "outputs": [
    {
     "data": {
      "text/html": [
       "<div>\n",
       "<style scoped>\n",
       "    .dataframe tbody tr th:only-of-type {\n",
       "        vertical-align: middle;\n",
       "    }\n",
       "\n",
       "    .dataframe tbody tr th {\n",
       "        vertical-align: top;\n",
       "    }\n",
       "\n",
       "    .dataframe thead th {\n",
       "        text-align: right;\n",
       "    }\n",
       "</style>\n",
       "<table border=\"1\" class=\"dataframe\">\n",
       "  <thead>\n",
       "    <tr style=\"text-align: right;\">\n",
       "      <th></th>\n",
       "      <th>air_store_id</th>\n",
       "      <th>visit_datetime</th>\n",
       "      <th>reserve_datetime</th>\n",
       "      <th>reserve_visitors</th>\n",
       "    </tr>\n",
       "  </thead>\n",
       "  <tbody>\n",
       "    <tr>\n",
       "      <th>92373</th>\n",
       "      <td>air_db4b38ebe7a7ceff</td>\n",
       "      <td>2017-05-29 18:00:00</td>\n",
       "      <td>2017-04-17 19:00:00</td>\n",
       "      <td>6</td>\n",
       "    </tr>\n",
       "    <tr>\n",
       "      <th>92374</th>\n",
       "      <td>air_1033310359ceeac1</td>\n",
       "      <td>2017-05-30 23:00:00</td>\n",
       "      <td>2017-04-19 17:00:00</td>\n",
       "      <td>8</td>\n",
       "    </tr>\n",
       "    <tr>\n",
       "      <th>92375</th>\n",
       "      <td>air_877f79706adbfb06</td>\n",
       "      <td>2017-05-31 20:00:00</td>\n",
       "      <td>2017-04-12 23:00:00</td>\n",
       "      <td>3</td>\n",
       "    </tr>\n",
       "    <tr>\n",
       "      <th>92376</th>\n",
       "      <td>air_900d755ebd2f7bbd</td>\n",
       "      <td>2017-05-31 20:00:00</td>\n",
       "      <td>2017-04-19 16:00:00</td>\n",
       "      <td>10</td>\n",
       "    </tr>\n",
       "    <tr>\n",
       "      <th>92377</th>\n",
       "      <td>air_3cad29d1a23209d2</td>\n",
       "      <td>2017-05-31 21:00:00</td>\n",
       "      <td>2017-04-22 10:00:00</td>\n",
       "      <td>3</td>\n",
       "    </tr>\n",
       "  </tbody>\n",
       "</table>\n",
       "</div>"
      ],
      "text/plain": [
       "               air_store_id      visit_datetime    reserve_datetime  \\\n",
       "92373  air_db4b38ebe7a7ceff 2017-05-29 18:00:00 2017-04-17 19:00:00   \n",
       "92374  air_1033310359ceeac1 2017-05-30 23:00:00 2017-04-19 17:00:00   \n",
       "92375  air_877f79706adbfb06 2017-05-31 20:00:00 2017-04-12 23:00:00   \n",
       "92376  air_900d755ebd2f7bbd 2017-05-31 20:00:00 2017-04-19 16:00:00   \n",
       "92377  air_3cad29d1a23209d2 2017-05-31 21:00:00 2017-04-22 10:00:00   \n",
       "\n",
       "       reserve_visitors  \n",
       "92373                 6  \n",
       "92374                 8  \n",
       "92375                 3  \n",
       "92376                10  \n",
       "92377                 3  "
      ]
     },
     "execution_count": 7,
     "metadata": {},
     "output_type": "execute_result"
    }
   ],
   "source": [
    "air_reserve.tail()"
   ]
  },
  {
   "cell_type": "code",
   "execution_count": 8,
   "metadata": {},
   "outputs": [
    {
     "data": {
      "text/html": [
       "<div>\n",
       "<style scoped>\n",
       "    .dataframe tbody tr th:only-of-type {\n",
       "        vertical-align: middle;\n",
       "    }\n",
       "\n",
       "    .dataframe tbody tr th {\n",
       "        vertical-align: top;\n",
       "    }\n",
       "\n",
       "    .dataframe thead th {\n",
       "        text-align: right;\n",
       "    }\n",
       "</style>\n",
       "<table border=\"1\" class=\"dataframe\">\n",
       "  <thead>\n",
       "    <tr style=\"text-align: right;\">\n",
       "      <th></th>\n",
       "      <th>reserve_visitors</th>\n",
       "    </tr>\n",
       "  </thead>\n",
       "  <tbody>\n",
       "    <tr>\n",
       "      <th>count</th>\n",
       "      <td>92378.00</td>\n",
       "    </tr>\n",
       "    <tr>\n",
       "      <th>mean</th>\n",
       "      <td>4.48</td>\n",
       "    </tr>\n",
       "    <tr>\n",
       "      <th>std</th>\n",
       "      <td>4.92</td>\n",
       "    </tr>\n",
       "    <tr>\n",
       "      <th>min</th>\n",
       "      <td>1.00</td>\n",
       "    </tr>\n",
       "    <tr>\n",
       "      <th>25%</th>\n",
       "      <td>2.00</td>\n",
       "    </tr>\n",
       "    <tr>\n",
       "      <th>50%</th>\n",
       "      <td>3.00</td>\n",
       "    </tr>\n",
       "    <tr>\n",
       "      <th>75%</th>\n",
       "      <td>5.00</td>\n",
       "    </tr>\n",
       "    <tr>\n",
       "      <th>max</th>\n",
       "      <td>100.00</td>\n",
       "    </tr>\n",
       "  </tbody>\n",
       "</table>\n",
       "</div>"
      ],
      "text/plain": [
       "       reserve_visitors\n",
       "count          92378.00\n",
       "mean               4.48\n",
       "std                4.92\n",
       "min                1.00\n",
       "25%                2.00\n",
       "50%                3.00\n",
       "75%                5.00\n",
       "max              100.00"
      ]
     },
     "execution_count": 8,
     "metadata": {},
     "output_type": "execute_result"
    }
   ],
   "source": [
    "air_reserve.describe()"
   ]
  },
  {
   "cell_type": "markdown",
   "metadata": {},
   "source": [
    "* We have atleast 1 visitor for all rows. \n",
    "* Maximum visitors count is much higher than the mean visitors count. \n",
    "* We have data from 2016-01-01 19:00:00 and end date is 2017-05-31 21:00:00"
   ]
  },
  {
   "cell_type": "code",
   "execution_count": 9,
   "metadata": {},
   "outputs": [
    {
     "data": {
      "text/plain": [
       "True"
      ]
     },
     "execution_count": 9,
     "metadata": {},
     "output_type": "execute_result"
    }
   ],
   "source": [
    "air_reserve.visit_datetime.is_monotonic"
   ]
  },
  {
   "cell_type": "markdown",
   "metadata": {},
   "source": [
    "The rows are __sorted by visit date__ time column."
   ]
  },
  {
   "cell_type": "code",
   "execution_count": 10,
   "metadata": {},
   "outputs": [
    {
     "data": {
      "text/plain": [
       "False"
      ]
     },
     "execution_count": 10,
     "metadata": {},
     "output_type": "execute_result"
    }
   ],
   "source": [
    "air_reserve.isnull().values.any()"
   ]
  },
  {
   "cell_type": "markdown",
   "metadata": {},
   "source": [
    "There are __no null__ values in the table "
   ]
  },
  {
   "cell_type": "code",
   "execution_count": 11,
   "metadata": {},
   "outputs": [
    {
     "name": "stdout",
     "output_type": "stream",
     "text": [
      "Number of unique restaurants in the air_reserve table :  314\n"
     ]
    }
   ],
   "source": [
    "print('Number of unique restaurants in the air_reserve table : ', len(air_reserve['air_store_id'].unique()))"
   ]
  },
  {
   "cell_type": "code",
   "execution_count": 12,
   "metadata": {},
   "outputs": [
    {
     "data": {
      "text/html": [
       "<div>\n",
       "<style scoped>\n",
       "    .dataframe tbody tr th:only-of-type {\n",
       "        vertical-align: middle;\n",
       "    }\n",
       "\n",
       "    .dataframe tbody tr th {\n",
       "        vertical-align: top;\n",
       "    }\n",
       "\n",
       "    .dataframe thead th {\n",
       "        text-align: right;\n",
       "    }\n",
       "</style>\n",
       "<table border=\"1\" class=\"dataframe\">\n",
       "  <thead>\n",
       "    <tr style=\"text-align: right;\">\n",
       "      <th></th>\n",
       "      <th>air_store_id</th>\n",
       "      <th>visit_datetime</th>\n",
       "      <th>reserve_datetime</th>\n",
       "      <th>reserve_visitors</th>\n",
       "      <th>visit_year</th>\n",
       "      <th>visit_month</th>\n",
       "      <th>visit_weekday</th>\n",
       "      <th>visit_date</th>\n",
       "    </tr>\n",
       "  </thead>\n",
       "  <tbody>\n",
       "    <tr>\n",
       "      <th>0</th>\n",
       "      <td>air_877f79706adbfb06</td>\n",
       "      <td>2016-01-01 19:00:00</td>\n",
       "      <td>2016-01-01 16:00:00</td>\n",
       "      <td>1</td>\n",
       "      <td>2016</td>\n",
       "      <td>1</td>\n",
       "      <td>4</td>\n",
       "      <td>2016-01-01</td>\n",
       "    </tr>\n",
       "    <tr>\n",
       "      <th>1</th>\n",
       "      <td>air_db4b38ebe7a7ceff</td>\n",
       "      <td>2016-01-01 19:00:00</td>\n",
       "      <td>2016-01-01 19:00:00</td>\n",
       "      <td>3</td>\n",
       "      <td>2016</td>\n",
       "      <td>1</td>\n",
       "      <td>4</td>\n",
       "      <td>2016-01-01</td>\n",
       "    </tr>\n",
       "    <tr>\n",
       "      <th>2</th>\n",
       "      <td>air_db4b38ebe7a7ceff</td>\n",
       "      <td>2016-01-01 19:00:00</td>\n",
       "      <td>2016-01-01 19:00:00</td>\n",
       "      <td>6</td>\n",
       "      <td>2016</td>\n",
       "      <td>1</td>\n",
       "      <td>4</td>\n",
       "      <td>2016-01-01</td>\n",
       "    </tr>\n",
       "    <tr>\n",
       "      <th>3</th>\n",
       "      <td>air_877f79706adbfb06</td>\n",
       "      <td>2016-01-01 20:00:00</td>\n",
       "      <td>2016-01-01 16:00:00</td>\n",
       "      <td>2</td>\n",
       "      <td>2016</td>\n",
       "      <td>1</td>\n",
       "      <td>4</td>\n",
       "      <td>2016-01-01</td>\n",
       "    </tr>\n",
       "    <tr>\n",
       "      <th>4</th>\n",
       "      <td>air_db80363d35f10926</td>\n",
       "      <td>2016-01-01 20:00:00</td>\n",
       "      <td>2016-01-01 01:00:00</td>\n",
       "      <td>5</td>\n",
       "      <td>2016</td>\n",
       "      <td>1</td>\n",
       "      <td>4</td>\n",
       "      <td>2016-01-01</td>\n",
       "    </tr>\n",
       "  </tbody>\n",
       "</table>\n",
       "</div>"
      ],
      "text/plain": [
       "           air_store_id      visit_datetime    reserve_datetime  \\\n",
       "0  air_877f79706adbfb06 2016-01-01 19:00:00 2016-01-01 16:00:00   \n",
       "1  air_db4b38ebe7a7ceff 2016-01-01 19:00:00 2016-01-01 19:00:00   \n",
       "2  air_db4b38ebe7a7ceff 2016-01-01 19:00:00 2016-01-01 19:00:00   \n",
       "3  air_877f79706adbfb06 2016-01-01 20:00:00 2016-01-01 16:00:00   \n",
       "4  air_db80363d35f10926 2016-01-01 20:00:00 2016-01-01 01:00:00   \n",
       "\n",
       "   reserve_visitors  visit_year  visit_month  visit_weekday  visit_date  \n",
       "0                 1        2016            1              4  2016-01-01  \n",
       "1                 3        2016            1              4  2016-01-01  \n",
       "2                 6        2016            1              4  2016-01-01  \n",
       "3                 2        2016            1              4  2016-01-01  \n",
       "4                 5        2016            1              4  2016-01-01  "
      ]
     },
     "execution_count": 12,
     "metadata": {},
     "output_type": "execute_result"
    }
   ],
   "source": [
    "air_reserve[\"visit_year\"] = pd.DatetimeIndex(air_reserve['visit_datetime']).year\n",
    "air_reserve[\"visit_month\"] = pd.DatetimeIndex(air_reserve['visit_datetime']).month\n",
    "air_reserve[\"visit_weekday\"] = pd.DatetimeIndex(air_reserve['visit_datetime']).weekday\n",
    "air_reserve[\"visit_date\"] = pd.DatetimeIndex(air_reserve['visit_datetime']).date\n",
    "air_reserve.head()"
   ]
  },
  {
   "cell_type": "code",
   "execution_count": 13,
   "metadata": {},
   "outputs": [
    {
     "data": {
      "image/png": "[encoded data removed]",
      "text/plain": [
       "<Figure size 720x360 with 1 Axes>"
      ]
     },
     "metadata": {},
     "output_type": "display_data"
    }
   ],
   "source": [
    "temp = air_reserve.groupby('visit_weekday')['reserve_visitors'].sum()\n",
    "temp.plot(kind='bar',xlabel = \"Weekdays Monday=0 to Sunday=6\",ylabel=\"Total Reserved Visitors\",figsize=(10,5))\n",
    "plt.show()"
   ]
  },
  {
   "cell_type": "markdown",
   "metadata": {},
   "source": [
    "* There are usually more number of visitors on Fridays and Saturdays"
   ]
  },
  {
   "cell_type": "code",
   "execution_count": 14,
   "metadata": {},
   "outputs": [
    {
     "data": {
      "image/png": "[encoded data removed]",
      "text/plain": [
       "<Figure size 720x360 with 1 Axes>"
      ]
     },
     "metadata": {},
     "output_type": "display_data"
    }
   ],
   "source": [
    "temp = air_reserve.groupby(['visit_year','visit_month'])['reserve_visitors'].sum()\n",
    "temp.plot(kind='bar',xlabel = \"Month January=1 to December=12\",ylabel=\"Total Reserved Visitors\",figsize=(10,5))\n",
    "plt.show()"
   ]
  },
  {
   "cell_type": "markdown",
   "metadata": {},
   "source": [
    "* There is a certain jump in total visits after November 2016\n",
    "* Missing values in Dates."
   ]
  },
  {
   "cell_type": "code",
   "execution_count": 15,
   "metadata": {},
   "outputs": [
    {
     "data": {
      "image/png": "[encoded data removed]",
      "text/plain": [
       "<Figure size 1440x360 with 1 Axes>"
      ]
     },
     "metadata": {},
     "output_type": "display_data"
    }
   ],
   "source": [
    "temp = air_reserve.groupby('visit_date')['reserve_visitors'].sum()\n",
    "temp.plot(kind='line',xlabel=\"Year-Month\",ylabel=\"Total Reserved Visitors\",figsize=(20,5))\n",
    "plt.show()"
   ]
  },
  {
   "cell_type": "markdown",
   "metadata": {},
   "source": [
    "* There is an unusual dip during 2017-01"
   ]
  },
  {
   "cell_type": "markdown",
   "metadata": {},
   "source": [
    "# Air Store Info CSV Analysis"
   ]
  },
  {
   "cell_type": "markdown",
   "metadata": {},
   "source": [
    "__air_store_info.csv__\n",
    "\n",
    "Column Name | Column Description\n",
    "-------------|:------------------\n",
    "air_store_id | restaurant id in the air system\n",
    "air_genre_name | genre in the air system\n",
    "air_area_name | area of the restaurant in the air system\n",
    "latitude | latitude\n",
    "longitude | longitude"
   ]
  },
  {
   "cell_type": "code",
   "execution_count": 16,
   "metadata": {},
   "outputs": [],
   "source": [
    "air_store_info = pd.read_csv('air_store_info.csv')"
   ]
  },
  {
   "cell_type": "code",
   "execution_count": 17,
   "metadata": {},
   "outputs": [
    {
     "name": "stdout",
     "output_type": "stream",
     "text": [
      "<class 'pandas.core.frame.DataFrame'>\n",
      "RangeIndex: 829 entries, 0 to 828\n",
      "Data columns (total 5 columns):\n",
      " #   Column          Non-Null Count  Dtype  \n",
      "---  ------          --------------  -----  \n",
      " 0   air_store_id    829 non-null    object \n",
      " 1   air_genre_name  829 non-null    object \n",
      " 2   air_area_name   829 non-null    object \n",
      " 3   latitude        829 non-null    float64\n",
      " 4   longitude       829 non-null    float64\n",
      "dtypes: float64(2), object(3)\n",
      "memory usage: 32.5+ KB\n"
     ]
    }
   ],
   "source": [
    "air_store_info.info()"
   ]
  },
  {
   "cell_type": "code",
   "execution_count": 18,
   "metadata": {},
   "outputs": [
    {
     "data": {
      "text/html": [
       "<div>\n",
       "<style scoped>\n",
       "    .dataframe tbody tr th:only-of-type {\n",
       "        vertical-align: middle;\n",
       "    }\n",
       "\n",
       "    .dataframe tbody tr th {\n",
       "        vertical-align: top;\n",
       "    }\n",
       "\n",
       "    .dataframe thead th {\n",
       "        text-align: right;\n",
       "    }\n",
       "</style>\n",
       "<table border=\"1\" class=\"dataframe\">\n",
       "  <thead>\n",
       "    <tr style=\"text-align: right;\">\n",
       "      <th></th>\n",
       "      <th>air_store_id</th>\n",
       "      <th>air_genre_name</th>\n",
       "      <th>air_area_name</th>\n",
       "      <th>latitude</th>\n",
       "      <th>longitude</th>\n",
       "    </tr>\n",
       "  </thead>\n",
       "  <tbody>\n",
       "    <tr>\n",
       "      <th>0</th>\n",
       "      <td>air_0f0cdeee6c9bf3d7</td>\n",
       "      <td>Italian/French</td>\n",
       "      <td>Hyōgo-ken Kōbe-shi Kumoidōri</td>\n",
       "      <td>34.70</td>\n",
       "      <td>135.20</td>\n",
       "    </tr>\n",
       "    <tr>\n",
       "      <th>1</th>\n",
       "      <td>air_7cc17a324ae5c7dc</td>\n",
       "      <td>Italian/French</td>\n",
       "      <td>Hyōgo-ken Kōbe-shi Kumoidōri</td>\n",
       "      <td>34.70</td>\n",
       "      <td>135.20</td>\n",
       "    </tr>\n",
       "    <tr>\n",
       "      <th>2</th>\n",
       "      <td>air_fee8dcf4d619598e</td>\n",
       "      <td>Italian/French</td>\n",
       "      <td>Hyōgo-ken Kōbe-shi Kumoidōri</td>\n",
       "      <td>34.70</td>\n",
       "      <td>135.20</td>\n",
       "    </tr>\n",
       "    <tr>\n",
       "      <th>3</th>\n",
       "      <td>air_a17f0778617c76e2</td>\n",
       "      <td>Italian/French</td>\n",
       "      <td>Hyōgo-ken Kōbe-shi Kumoidōri</td>\n",
       "      <td>34.70</td>\n",
       "      <td>135.20</td>\n",
       "    </tr>\n",
       "    <tr>\n",
       "      <th>4</th>\n",
       "      <td>air_83db5aff8f50478e</td>\n",
       "      <td>Italian/French</td>\n",
       "      <td>Tōkyō-to Minato-ku Shibakōen</td>\n",
       "      <td>35.66</td>\n",
       "      <td>139.75</td>\n",
       "    </tr>\n",
       "    <tr>\n",
       "      <th>...</th>\n",
       "      <td>...</td>\n",
       "      <td>...</td>\n",
       "      <td>...</td>\n",
       "      <td>...</td>\n",
       "      <td>...</td>\n",
       "    </tr>\n",
       "    <tr>\n",
       "      <th>824</th>\n",
       "      <td>air_9bf595ef095572fb</td>\n",
       "      <td>International cuisine</td>\n",
       "      <td>Tōkyō-to Shibuya-ku Shibuya</td>\n",
       "      <td>35.66</td>\n",
       "      <td>139.70</td>\n",
       "    </tr>\n",
       "    <tr>\n",
       "      <th>825</th>\n",
       "      <td>air_764f71040a413d4d</td>\n",
       "      <td>Asian</td>\n",
       "      <td>Tōkyō-to Shibuya-ku Shibuya</td>\n",
       "      <td>35.66</td>\n",
       "      <td>139.70</td>\n",
       "    </tr>\n",
       "    <tr>\n",
       "      <th>826</th>\n",
       "      <td>air_10bbe8acd943d8f6</td>\n",
       "      <td>Asian</td>\n",
       "      <td>Tōkyō-to Shibuya-ku Shibuya</td>\n",
       "      <td>35.66</td>\n",
       "      <td>139.70</td>\n",
       "    </tr>\n",
       "    <tr>\n",
       "      <th>827</th>\n",
       "      <td>air_7514d90009613cd6</td>\n",
       "      <td>Karaoke/Party</td>\n",
       "      <td>Hokkaidō Sapporo-shi Minami 3 Jōnishi</td>\n",
       "      <td>43.06</td>\n",
       "      <td>141.34</td>\n",
       "    </tr>\n",
       "    <tr>\n",
       "      <th>828</th>\n",
       "      <td>air_c8fe396d6c46275d</td>\n",
       "      <td>Karaoke/Party</td>\n",
       "      <td>Hokkaidō Sapporo-shi Minami 3 Jōnishi</td>\n",
       "      <td>43.06</td>\n",
       "      <td>141.34</td>\n",
       "    </tr>\n",
       "  </tbody>\n",
       "</table>\n",
       "<p>829 rows × 5 columns</p>\n",
       "</div>"
      ],
      "text/plain": [
       "             air_store_id         air_genre_name  \\\n",
       "0    air_0f0cdeee6c9bf3d7         Italian/French   \n",
       "1    air_7cc17a324ae5c7dc         Italian/French   \n",
       "2    air_fee8dcf4d619598e         Italian/French   \n",
       "3    air_a17f0778617c76e2         Italian/French   \n",
       "4    air_83db5aff8f50478e         Italian/French   \n",
       "..                    ...                    ...   \n",
       "824  air_9bf595ef095572fb  International cuisine   \n",
       "825  air_764f71040a413d4d                  Asian   \n",
       "826  air_10bbe8acd943d8f6                  Asian   \n",
       "827  air_7514d90009613cd6          Karaoke/Party   \n",
       "828  air_c8fe396d6c46275d          Karaoke/Party   \n",
       "\n",
       "                             air_area_name  latitude  longitude  \n",
       "0             Hyōgo-ken Kōbe-shi Kumoidōri     34.70     135.20  \n",
       "1             Hyōgo-ken Kōbe-shi Kumoidōri     34.70     135.20  \n",
       "2             Hyōgo-ken Kōbe-shi Kumoidōri     34.70     135.20  \n",
       "3             Hyōgo-ken Kōbe-shi Kumoidōri     34.70     135.20  \n",
       "4             Tōkyō-to Minato-ku Shibakōen     35.66     139.75  \n",
       "..                                     ...       ...        ...  \n",
       "824            Tōkyō-to Shibuya-ku Shibuya     35.66     139.70  \n",
       "825            Tōkyō-to Shibuya-ku Shibuya     35.66     139.70  \n",
       "826            Tōkyō-to Shibuya-ku Shibuya     35.66     139.70  \n",
       "827  Hokkaidō Sapporo-shi Minami 3 Jōnishi     43.06     141.34  \n",
       "828  Hokkaidō Sapporo-shi Minami 3 Jōnishi     43.06     141.34  \n",
       "\n",
       "[829 rows x 5 columns]"
      ]
     },
     "execution_count": 18,
     "metadata": {},
     "output_type": "execute_result"
    }
   ],
   "source": [
    "air_store_info"
   ]
  },
  {
   "cell_type": "code",
   "execution_count": 19,
   "metadata": {},
   "outputs": [
    {
     "data": {
      "text/plain": [
       "False"
      ]
     },
     "execution_count": 19,
     "metadata": {},
     "output_type": "execute_result"
    }
   ],
   "source": [
    "air_store_info.isnull().values.any()"
   ]
  },
  {
   "cell_type": "code",
   "execution_count": 20,
   "metadata": {},
   "outputs": [
    {
     "data": {
      "text/plain": [
       "False"
      ]
     },
     "execution_count": 20,
     "metadata": {},
     "output_type": "execute_result"
    }
   ],
   "source": [
    "air_store_info['air_store_id'].duplicated().any()"
   ]
  },
  {
   "cell_type": "code",
   "execution_count": 21,
   "metadata": {},
   "outputs": [
    {
     "name": "stdout",
     "output_type": "stream",
     "text": [
      "Number of unique restaurants in the air_store_info table :  829\n"
     ]
    }
   ],
   "source": [
    "print('Number of unique restaurants in the air_store_info table : ', len(air_store_info['air_store_id'].unique()))"
   ]
  },
  {
   "cell_type": "markdown",
   "metadata": {},
   "source": [
    "* air_store_info file has __no null__ values, data is __clean__ and all air_store_id are __unique__"
   ]
  },
  {
   "cell_type": "code",
   "execution_count": 22,
   "metadata": {},
   "outputs": [
    {
     "data": {
      "image/png": "[encoded data removed]",
      "text/plain": [
       "<Figure size 720x360 with 1 Axes>"
      ]
     },
     "metadata": {},
     "output_type": "display_data"
    }
   ],
   "source": [
    "temp = air_store_info['air_genre_name'].value_counts()\n",
    "temp.nlargest(10).sort_values().plot(kind='barh',figsize=(10,5))\n",
    "plt.xlabel(\"Number of restaurants serving this genre\")\n",
    "plt.show()"
   ]
  },
  {
   "cell_type": "markdown",
   "metadata": {},
   "source": [
    "* Above is the ordering of top 10 __popular food genres__"
   ]
  },
  {
   "cell_type": "code",
   "execution_count": 23,
   "metadata": {},
   "outputs": [
    {
     "data": {
      "text/plain": [
       "Fukuoka-ken Fukuoka-shi Daimyō              64\n",
       "Tōkyō-to Shibuya-ku Shibuya                 58\n",
       "Tōkyō-to Minato-ku Shibakōen                51\n",
       "Tōkyō-to Shinjuku-ku Kabukichō              39\n",
       "Tōkyō-to Setagaya-ku Setagaya               30\n",
       "                                            ..\n",
       "Hokkaidō Abashiri-shi Minami 6 Jōhigashi     2\n",
       "Tōkyō-to Musashino-shi Midorichō             2\n",
       "Tōkyō-to Toshima-ku Mejiro                   2\n",
       "Tōkyō-to Kōtō-ku Kameido                     2\n",
       "Tōkyō-to Shibuya-ku Jingūmae                 2\n",
       "Name: air_area_name, Length: 103, dtype: int64"
      ]
     },
     "execution_count": 23,
     "metadata": {},
     "output_type": "execute_result"
    }
   ],
   "source": [
    "air_store_info.air_area_name.value_counts()"
   ]
  },
  {
   "cell_type": "code",
   "execution_count": 24,
   "metadata": {},
   "outputs": [
    {
     "data": {
      "text/html": [
       "<div>\n",
       "<style scoped>\n",
       "    .dataframe tbody tr th:only-of-type {\n",
       "        vertical-align: middle;\n",
       "    }\n",
       "\n",
       "    .dataframe tbody tr th {\n",
       "        vertical-align: top;\n",
       "    }\n",
       "\n",
       "    .dataframe thead th {\n",
       "        text-align: right;\n",
       "    }\n",
       "</style>\n",
       "<table border=\"1\" class=\"dataframe\">\n",
       "  <thead>\n",
       "    <tr style=\"text-align: right;\">\n",
       "      <th></th>\n",
       "      <th>air_store_id</th>\n",
       "      <th>air_genre_name</th>\n",
       "      <th>air_area_name</th>\n",
       "      <th>latitude</th>\n",
       "      <th>longitude</th>\n",
       "      <th>city</th>\n",
       "      <th>ward</th>\n",
       "      <th>neighborhood</th>\n",
       "    </tr>\n",
       "  </thead>\n",
       "  <tbody>\n",
       "    <tr>\n",
       "      <th>0</th>\n",
       "      <td>air_0f0cdeee6c9bf3d7</td>\n",
       "      <td>Italian/French</td>\n",
       "      <td>Hyōgo-ken Kōbe-shi Kumoidōri</td>\n",
       "      <td>34.70</td>\n",
       "      <td>135.20</td>\n",
       "      <td>Hyōgo-ken</td>\n",
       "      <td>Kōbe-shi</td>\n",
       "      <td>Kumoidōri</td>\n",
       "    </tr>\n",
       "    <tr>\n",
       "      <th>1</th>\n",
       "      <td>air_7cc17a324ae5c7dc</td>\n",
       "      <td>Italian/French</td>\n",
       "      <td>Hyōgo-ken Kōbe-shi Kumoidōri</td>\n",
       "      <td>34.70</td>\n",
       "      <td>135.20</td>\n",
       "      <td>Hyōgo-ken</td>\n",
       "      <td>Kōbe-shi</td>\n",
       "      <td>Kumoidōri</td>\n",
       "    </tr>\n",
       "    <tr>\n",
       "      <th>2</th>\n",
       "      <td>air_fee8dcf4d619598e</td>\n",
       "      <td>Italian/French</td>\n",
       "      <td>Hyōgo-ken Kōbe-shi Kumoidōri</td>\n",
       "      <td>34.70</td>\n",
       "      <td>135.20</td>\n",
       "      <td>Hyōgo-ken</td>\n",
       "      <td>Kōbe-shi</td>\n",
       "      <td>Kumoidōri</td>\n",
       "    </tr>\n",
       "    <tr>\n",
       "      <th>3</th>\n",
       "      <td>air_a17f0778617c76e2</td>\n",
       "      <td>Italian/French</td>\n",
       "      <td>Hyōgo-ken Kōbe-shi Kumoidōri</td>\n",
       "      <td>34.70</td>\n",
       "      <td>135.20</td>\n",
       "      <td>Hyōgo-ken</td>\n",
       "      <td>Kōbe-shi</td>\n",
       "      <td>Kumoidōri</td>\n",
       "    </tr>\n",
       "    <tr>\n",
       "      <th>4</th>\n",
       "      <td>air_83db5aff8f50478e</td>\n",
       "      <td>Italian/French</td>\n",
       "      <td>Tōkyō-to Minato-ku Shibakōen</td>\n",
       "      <td>35.66</td>\n",
       "      <td>139.75</td>\n",
       "      <td>Tōkyō-to</td>\n",
       "      <td>Minato-ku</td>\n",
       "      <td>Shibakōen</td>\n",
       "    </tr>\n",
       "  </tbody>\n",
       "</table>\n",
       "</div>"
      ],
      "text/plain": [
       "           air_store_id  air_genre_name                 air_area_name  \\\n",
       "0  air_0f0cdeee6c9bf3d7  Italian/French  Hyōgo-ken Kōbe-shi Kumoidōri   \n",
       "1  air_7cc17a324ae5c7dc  Italian/French  Hyōgo-ken Kōbe-shi Kumoidōri   \n",
       "2  air_fee8dcf4d619598e  Italian/French  Hyōgo-ken Kōbe-shi Kumoidōri   \n",
       "3  air_a17f0778617c76e2  Italian/French  Hyōgo-ken Kōbe-shi Kumoidōri   \n",
       "4  air_83db5aff8f50478e  Italian/French  Tōkyō-to Minato-ku Shibakōen   \n",
       "\n",
       "   latitude  longitude       city       ward neighborhood  \n",
       "0     34.70     135.20  Hyōgo-ken   Kōbe-shi    Kumoidōri  \n",
       "1     34.70     135.20  Hyōgo-ken   Kōbe-shi    Kumoidōri  \n",
       "2     34.70     135.20  Hyōgo-ken   Kōbe-shi    Kumoidōri  \n",
       "3     34.70     135.20  Hyōgo-ken   Kōbe-shi    Kumoidōri  \n",
       "4     35.66     139.75   Tōkyō-to  Minato-ku    Shibakōen  "
      ]
     },
     "execution_count": 24,
     "metadata": {},
     "output_type": "execute_result"
    }
   ],
   "source": [
    "air_store_info['city'] = air_store_info['air_area_name'].str.split().str[0]\n",
    "air_store_info['ward'] = air_store_info['air_area_name'].str.split().str[1]\n",
    "air_store_info['neighborhood'] = air_store_info['air_area_name'].str.split().str[2]\n",
    "air_store_info.head()"
   ]
  },
  {
   "cell_type": "code",
   "execution_count": 25,
   "metadata": {},
   "outputs": [
    {
     "data": {
      "image/png": "[encoded data removed]",
      "text/plain": [
       "<Figure size 720x360 with 1 Axes>"
      ]
     },
     "metadata": {},
     "output_type": "display_data"
    }
   ],
   "source": [
    "temp = air_store_info['city'].value_counts()\n",
    "temp.sort_values().plot(kind='barh',figsize=(10,5))\n",
    "plt.xlabel(\"Number of restaurants in the city\")\n",
    "plt.show()"
   ]
  },
  {
   "cell_type": "markdown",
   "metadata": {},
   "source": [
    "* City with most number of restaurants is Tokyo, Fukuoka, Osaka"
   ]
  },
  {
   "cell_type": "markdown",
   "metadata": {},
   "source": [
    "# Date Info CSV Analysis"
   ]
  },
  {
   "cell_type": "markdown",
   "metadata": {},
   "source": [
    "__date_info.csv__\n",
    "\n",
    "Column Name | Column Description\n",
    "-------------|:------------------\n",
    "calendar_date | date\n",
    "day_of_week | day of the week\n",
    "holiday_flg | if the day is a holiday in Japan"
   ]
  },
  {
   "cell_type": "code",
   "execution_count": 26,
   "metadata": {},
   "outputs": [],
   "source": [
    "date_info = pd.read_csv('date_info.csv')"
   ]
  },
  {
   "cell_type": "code",
   "execution_count": 27,
   "metadata": {},
   "outputs": [
    {
     "name": "stdout",
     "output_type": "stream",
     "text": [
      "<class 'pandas.core.frame.DataFrame'>\n",
      "RangeIndex: 517 entries, 0 to 516\n",
      "Data columns (total 3 columns):\n",
      " #   Column         Non-Null Count  Dtype \n",
      "---  ------         --------------  ----- \n",
      " 0   calendar_date  517 non-null    object\n",
      " 1   day_of_week    517 non-null    object\n",
      " 2   holiday_flg    517 non-null    int64 \n",
      "dtypes: int64(1), object(2)\n",
      "memory usage: 12.2+ KB\n"
     ]
    }
   ],
   "source": [
    "date_info.info()"
   ]
  },
  {
   "cell_type": "code",
   "execution_count": 28,
   "metadata": {},
   "outputs": [],
   "source": [
    "date_info.calendar_date = pd.to_datetime(date_info.calendar_date)"
   ]
  },
  {
   "cell_type": "code",
   "execution_count": 29,
   "metadata": {},
   "outputs": [
    {
     "data": {
      "text/html": [
       "<div>\n",
       "<style scoped>\n",
       "    .dataframe tbody tr th:only-of-type {\n",
       "        vertical-align: middle;\n",
       "    }\n",
       "\n",
       "    .dataframe tbody tr th {\n",
       "        vertical-align: top;\n",
       "    }\n",
       "\n",
       "    .dataframe thead th {\n",
       "        text-align: right;\n",
       "    }\n",
       "</style>\n",
       "<table border=\"1\" class=\"dataframe\">\n",
       "  <thead>\n",
       "    <tr style=\"text-align: right;\">\n",
       "      <th></th>\n",
       "      <th>calendar_date</th>\n",
       "      <th>day_of_week</th>\n",
       "      <th>holiday_flg</th>\n",
       "    </tr>\n",
       "  </thead>\n",
       "  <tbody>\n",
       "    <tr>\n",
       "      <th>0</th>\n",
       "      <td>2016-01-01</td>\n",
       "      <td>Friday</td>\n",
       "      <td>1</td>\n",
       "    </tr>\n",
       "    <tr>\n",
       "      <th>1</th>\n",
       "      <td>2016-01-02</td>\n",
       "      <td>Saturday</td>\n",
       "      <td>1</td>\n",
       "    </tr>\n",
       "    <tr>\n",
       "      <th>2</th>\n",
       "      <td>2016-01-03</td>\n",
       "      <td>Sunday</td>\n",
       "      <td>1</td>\n",
       "    </tr>\n",
       "    <tr>\n",
       "      <th>3</th>\n",
       "      <td>2016-01-04</td>\n",
       "      <td>Monday</td>\n",
       "      <td>0</td>\n",
       "    </tr>\n",
       "    <tr>\n",
       "      <th>4</th>\n",
       "      <td>2016-01-05</td>\n",
       "      <td>Tuesday</td>\n",
       "      <td>0</td>\n",
       "    </tr>\n",
       "  </tbody>\n",
       "</table>\n",
       "</div>"
      ],
      "text/plain": [
       "  calendar_date day_of_week  holiday_flg\n",
       "0    2016-01-01      Friday            1\n",
       "1    2016-01-02    Saturday            1\n",
       "2    2016-01-03      Sunday            1\n",
       "3    2016-01-04      Monday            0\n",
       "4    2016-01-05     Tuesday            0"
      ]
     },
     "execution_count": 29,
     "metadata": {},
     "output_type": "execute_result"
    }
   ],
   "source": [
    "date_info.head()"
   ]
  },
  {
   "cell_type": "code",
   "execution_count": 30,
   "metadata": {},
   "outputs": [
    {
     "data": {
      "text/plain": [
       "0    482\n",
       "1     35\n",
       "Name: holiday_flg, dtype: int64"
      ]
     },
     "execution_count": 30,
     "metadata": {},
     "output_type": "execute_result"
    }
   ],
   "source": [
    "date_info.holiday_flg.value_counts()"
   ]
  },
  {
   "cell_type": "markdown",
   "metadata": {},
   "source": [
    "* It is not yet clear if __holiday flag__ means restaurants are closed that day, or if restaurants are open and chances are there would be more crowd on holidays\n",
    "* There are __35 Holidays__ in the span of our timeseries"
   ]
  },
  {
   "cell_type": "code",
   "execution_count": 31,
   "metadata": {},
   "outputs": [
    {
     "data": {
      "text/plain": [
       "False"
      ]
     },
     "execution_count": 31,
     "metadata": {},
     "output_type": "execute_result"
    }
   ],
   "source": [
    "date_info.isnull().values.any()"
   ]
  },
  {
   "cell_type": "markdown",
   "metadata": {},
   "source": [
    "* There are __no null values__ in the table."
   ]
  },
  {
   "cell_type": "markdown",
   "metadata": {},
   "source": [
    "# HPG Reserve CSV Analysis"
   ]
  },
  {
   "cell_type": "markdown",
   "metadata": {},
   "source": [
    "__hpg_reserve.csv__\n",
    "\n",
    "Column Name | Column Description\n",
    "-------------|:------------------\n",
    "hpg_store_id | restaurant id in the hpg system\n",
    "visit_datetime| time of the reservation\n",
    "reserve_datetime | time the reservation was made\n",
    "reserve_visitors | number of visitors for that reservation"
   ]
  },
  {
   "cell_type": "code",
   "execution_count": 32,
   "metadata": {},
   "outputs": [],
   "source": [
    "hpg_reserve = pd.read_csv('hpg_reserve.csv')"
   ]
  },
  {
   "cell_type": "code",
   "execution_count": 33,
   "metadata": {},
   "outputs": [
    {
     "name": "stdout",
     "output_type": "stream",
     "text": [
      "<class 'pandas.core.frame.DataFrame'>\n",
      "RangeIndex: 2000320 entries, 0 to 2000319\n",
      "Data columns (total 4 columns):\n",
      " #   Column            Dtype \n",
      "---  ------            ----- \n",
      " 0   hpg_store_id      object\n",
      " 1   visit_datetime    object\n",
      " 2   reserve_datetime  object\n",
      " 3   reserve_visitors  int64 \n",
      "dtypes: int64(1), object(3)\n",
      "memory usage: 61.0+ MB\n"
     ]
    }
   ],
   "source": [
    "hpg_reserve.info()"
   ]
  },
  {
   "cell_type": "markdown",
   "metadata": {},
   "source": [
    "* We have total __2000320__ rows in the table with 4 columns. \n",
    "* Visit Dates and Reserve Dates are currently object data types, which needs to be converted to __data time format__. "
   ]
  },
  {
   "cell_type": "code",
   "execution_count": 34,
   "metadata": {},
   "outputs": [],
   "source": [
    "#Reimporting the hpg_reserve csv using pandas inbuilt date time format parsing.\n",
    "hpg_reserve = hpg_reserve = pd.read_csv('hpg_reserve.csv',parse_dates=['visit_datetime', 'reserve_datetime'])"
   ]
  },
  {
   "cell_type": "code",
   "execution_count": 35,
   "metadata": {},
   "outputs": [
    {
     "data": {
      "text/html": [
       "<div>\n",
       "<style scoped>\n",
       "    .dataframe tbody tr th:only-of-type {\n",
       "        vertical-align: middle;\n",
       "    }\n",
       "\n",
       "    .dataframe tbody tr th {\n",
       "        vertical-align: top;\n",
       "    }\n",
       "\n",
       "    .dataframe thead th {\n",
       "        text-align: right;\n",
       "    }\n",
       "</style>\n",
       "<table border=\"1\" class=\"dataframe\">\n",
       "  <thead>\n",
       "    <tr style=\"text-align: right;\">\n",
       "      <th></th>\n",
       "      <th>hpg_store_id</th>\n",
       "      <th>visit_datetime</th>\n",
       "      <th>reserve_datetime</th>\n",
       "      <th>reserve_visitors</th>\n",
       "    </tr>\n",
       "  </thead>\n",
       "  <tbody>\n",
       "    <tr>\n",
       "      <th>0</th>\n",
       "      <td>hpg_c63f6f42e088e50f</td>\n",
       "      <td>2016-01-01 11:00:00</td>\n",
       "      <td>2016-01-01 09:00:00</td>\n",
       "      <td>1</td>\n",
       "    </tr>\n",
       "    <tr>\n",
       "      <th>1</th>\n",
       "      <td>hpg_dac72789163a3f47</td>\n",
       "      <td>2016-01-01 13:00:00</td>\n",
       "      <td>2016-01-01 06:00:00</td>\n",
       "      <td>3</td>\n",
       "    </tr>\n",
       "    <tr>\n",
       "      <th>2</th>\n",
       "      <td>hpg_c8e24dcf51ca1eb5</td>\n",
       "      <td>2016-01-01 16:00:00</td>\n",
       "      <td>2016-01-01 14:00:00</td>\n",
       "      <td>2</td>\n",
       "    </tr>\n",
       "    <tr>\n",
       "      <th>3</th>\n",
       "      <td>hpg_24bb207e5fd49d4a</td>\n",
       "      <td>2016-01-01 17:00:00</td>\n",
       "      <td>2016-01-01 11:00:00</td>\n",
       "      <td>5</td>\n",
       "    </tr>\n",
       "    <tr>\n",
       "      <th>4</th>\n",
       "      <td>hpg_25291c542ebb3bc2</td>\n",
       "      <td>2016-01-01 17:00:00</td>\n",
       "      <td>2016-01-01 03:00:00</td>\n",
       "      <td>13</td>\n",
       "    </tr>\n",
       "    <tr>\n",
       "      <th>...</th>\n",
       "      <td>...</td>\n",
       "      <td>...</td>\n",
       "      <td>...</td>\n",
       "      <td>...</td>\n",
       "    </tr>\n",
       "    <tr>\n",
       "      <th>2000315</th>\n",
       "      <td>hpg_2b293477ea4642fb</td>\n",
       "      <td>2017-05-31 20:00:00</td>\n",
       "      <td>2017-04-19 07:00:00</td>\n",
       "      <td>2</td>\n",
       "    </tr>\n",
       "    <tr>\n",
       "      <th>2000316</th>\n",
       "      <td>hpg_f922aeca48ca5a29</td>\n",
       "      <td>2017-05-31 20:00:00</td>\n",
       "      <td>2017-03-19 00:00:00</td>\n",
       "      <td>3</td>\n",
       "    </tr>\n",
       "    <tr>\n",
       "      <th>2000317</th>\n",
       "      <td>hpg_e9151de687b93aa3</td>\n",
       "      <td>2017-05-31 21:00:00</td>\n",
       "      <td>2017-04-14 20:00:00</td>\n",
       "      <td>49</td>\n",
       "    </tr>\n",
       "    <tr>\n",
       "      <th>2000318</th>\n",
       "      <td>hpg_fae6c96189b4a122</td>\n",
       "      <td>2017-05-31 21:00:00</td>\n",
       "      <td>2017-04-19 17:00:00</td>\n",
       "      <td>9</td>\n",
       "    </tr>\n",
       "    <tr>\n",
       "      <th>2000319</th>\n",
       "      <td>hpg_0b70de808b55ad1e</td>\n",
       "      <td>2017-05-31 23:00:00</td>\n",
       "      <td>2017-04-21 13:00:00</td>\n",
       "      <td>6</td>\n",
       "    </tr>\n",
       "  </tbody>\n",
       "</table>\n",
       "<p>2000320 rows × 4 columns</p>\n",
       "</div>"
      ],
      "text/plain": [
       "                 hpg_store_id      visit_datetime    reserve_datetime  \\\n",
       "0        hpg_c63f6f42e088e50f 2016-01-01 11:00:00 2016-01-01 09:00:00   \n",
       "1        hpg_dac72789163a3f47 2016-01-01 13:00:00 2016-01-01 06:00:00   \n",
       "2        hpg_c8e24dcf51ca1eb5 2016-01-01 16:00:00 2016-01-01 14:00:00   \n",
       "3        hpg_24bb207e5fd49d4a 2016-01-01 17:00:00 2016-01-01 11:00:00   \n",
       "4        hpg_25291c542ebb3bc2 2016-01-01 17:00:00 2016-01-01 03:00:00   \n",
       "...                       ...                 ...                 ...   \n",
       "2000315  hpg_2b293477ea4642fb 2017-05-31 20:00:00 2017-04-19 07:00:00   \n",
       "2000316  hpg_f922aeca48ca5a29 2017-05-31 20:00:00 2017-03-19 00:00:00   \n",
       "2000317  hpg_e9151de687b93aa3 2017-05-31 21:00:00 2017-04-14 20:00:00   \n",
       "2000318  hpg_fae6c96189b4a122 2017-05-31 21:00:00 2017-04-19 17:00:00   \n",
       "2000319  hpg_0b70de808b55ad1e 2017-05-31 23:00:00 2017-04-21 13:00:00   \n",
       "\n",
       "         reserve_visitors  \n",
       "0                       1  \n",
       "1                       3  \n",
       "2                       2  \n",
       "3                       5  \n",
       "4                      13  \n",
       "...                   ...  \n",
       "2000315                 2  \n",
       "2000316                 3  \n",
       "2000317                49  \n",
       "2000318                 9  \n",
       "2000319                 6  \n",
       "\n",
       "[2000320 rows x 4 columns]"
      ]
     },
     "execution_count": 35,
     "metadata": {},
     "output_type": "execute_result"
    }
   ],
   "source": [
    "hpg_reserve"
   ]
  },
  {
   "cell_type": "code",
   "execution_count": 36,
   "metadata": {},
   "outputs": [
    {
     "data": {
      "text/plain": [
       "True"
      ]
     },
     "execution_count": 36,
     "metadata": {},
     "output_type": "execute_result"
    }
   ],
   "source": [
    "hpg_reserve.visit_datetime.is_monotonic"
   ]
  },
  {
   "cell_type": "code",
   "execution_count": 37,
   "metadata": {},
   "outputs": [
    {
     "data": {
      "text/html": [
       "<div>\n",
       "<style scoped>\n",
       "    .dataframe tbody tr th:only-of-type {\n",
       "        vertical-align: middle;\n",
       "    }\n",
       "\n",
       "    .dataframe tbody tr th {\n",
       "        vertical-align: top;\n",
       "    }\n",
       "\n",
       "    .dataframe thead th {\n",
       "        text-align: right;\n",
       "    }\n",
       "</style>\n",
       "<table border=\"1\" class=\"dataframe\">\n",
       "  <thead>\n",
       "    <tr style=\"text-align: right;\">\n",
       "      <th></th>\n",
       "      <th>reserve_visitors</th>\n",
       "    </tr>\n",
       "  </thead>\n",
       "  <tbody>\n",
       "    <tr>\n",
       "      <th>count</th>\n",
       "      <td>2000320.00</td>\n",
       "    </tr>\n",
       "    <tr>\n",
       "      <th>mean</th>\n",
       "      <td>5.07</td>\n",
       "    </tr>\n",
       "    <tr>\n",
       "      <th>std</th>\n",
       "      <td>5.42</td>\n",
       "    </tr>\n",
       "    <tr>\n",
       "      <th>min</th>\n",
       "      <td>1.00</td>\n",
       "    </tr>\n",
       "    <tr>\n",
       "      <th>25%</th>\n",
       "      <td>2.00</td>\n",
       "    </tr>\n",
       "    <tr>\n",
       "      <th>50%</th>\n",
       "      <td>3.00</td>\n",
       "    </tr>\n",
       "    <tr>\n",
       "      <th>75%</th>\n",
       "      <td>6.00</td>\n",
       "    </tr>\n",
       "    <tr>\n",
       "      <th>max</th>\n",
       "      <td>100.00</td>\n",
       "    </tr>\n",
       "  </tbody>\n",
       "</table>\n",
       "</div>"
      ],
      "text/plain": [
       "       reserve_visitors\n",
       "count        2000320.00\n",
       "mean               5.07\n",
       "std                5.42\n",
       "min                1.00\n",
       "25%                2.00\n",
       "50%                3.00\n",
       "75%                6.00\n",
       "max              100.00"
      ]
     },
     "execution_count": 37,
     "metadata": {},
     "output_type": "execute_result"
    }
   ],
   "source": [
    "hpg_reserve.describe()"
   ]
  },
  {
   "cell_type": "markdown",
   "metadata": {},
   "source": [
    "* We have atleast 1 reserved visitor for all rows. \n",
    "* Maximum visitors count is much higher than the mean visitors count. \n",
    "* We have data from 2016-01-01 11:00:00 to 2017-05-31 23:00:00"
   ]
  },
  {
   "cell_type": "code",
   "execution_count": 38,
   "metadata": {},
   "outputs": [
    {
     "name": "stdout",
     "output_type": "stream",
     "text": [
      "Number of unique restaurants in the hpg_reserve table :  13325\n"
     ]
    }
   ],
   "source": [
    "print('Number of unique restaurants in the hpg_reserve table : ', len(hpg_reserve['hpg_store_id'].unique()))"
   ]
  },
  {
   "cell_type": "code",
   "execution_count": 39,
   "metadata": {},
   "outputs": [
    {
     "data": {
      "text/html": [
       "<div>\n",
       "<style scoped>\n",
       "    .dataframe tbody tr th:only-of-type {\n",
       "        vertical-align: middle;\n",
       "    }\n",
       "\n",
       "    .dataframe tbody tr th {\n",
       "        vertical-align: top;\n",
       "    }\n",
       "\n",
       "    .dataframe thead th {\n",
       "        text-align: right;\n",
       "    }\n",
       "</style>\n",
       "<table border=\"1\" class=\"dataframe\">\n",
       "  <thead>\n",
       "    <tr style=\"text-align: right;\">\n",
       "      <th></th>\n",
       "      <th>hpg_store_id</th>\n",
       "      <th>visit_datetime</th>\n",
       "      <th>reserve_datetime</th>\n",
       "      <th>reserve_visitors</th>\n",
       "      <th>visit_year</th>\n",
       "      <th>visit_month</th>\n",
       "      <th>visit_weekday</th>\n",
       "      <th>visit_date</th>\n",
       "    </tr>\n",
       "  </thead>\n",
       "  <tbody>\n",
       "    <tr>\n",
       "      <th>0</th>\n",
       "      <td>hpg_c63f6f42e088e50f</td>\n",
       "      <td>2016-01-01 11:00:00</td>\n",
       "      <td>2016-01-01 09:00:00</td>\n",
       "      <td>1</td>\n",
       "      <td>2016</td>\n",
       "      <td>1</td>\n",
       "      <td>4</td>\n",
       "      <td>2016-01-01</td>\n",
       "    </tr>\n",
       "    <tr>\n",
       "      <th>1</th>\n",
       "      <td>hpg_dac72789163a3f47</td>\n",
       "      <td>2016-01-01 13:00:00</td>\n",
       "      <td>2016-01-01 06:00:00</td>\n",
       "      <td>3</td>\n",
       "      <td>2016</td>\n",
       "      <td>1</td>\n",
       "      <td>4</td>\n",
       "      <td>2016-01-01</td>\n",
       "    </tr>\n",
       "    <tr>\n",
       "      <th>2</th>\n",
       "      <td>hpg_c8e24dcf51ca1eb5</td>\n",
       "      <td>2016-01-01 16:00:00</td>\n",
       "      <td>2016-01-01 14:00:00</td>\n",
       "      <td>2</td>\n",
       "      <td>2016</td>\n",
       "      <td>1</td>\n",
       "      <td>4</td>\n",
       "      <td>2016-01-01</td>\n",
       "    </tr>\n",
       "    <tr>\n",
       "      <th>3</th>\n",
       "      <td>hpg_24bb207e5fd49d4a</td>\n",
       "      <td>2016-01-01 17:00:00</td>\n",
       "      <td>2016-01-01 11:00:00</td>\n",
       "      <td>5</td>\n",
       "      <td>2016</td>\n",
       "      <td>1</td>\n",
       "      <td>4</td>\n",
       "      <td>2016-01-01</td>\n",
       "    </tr>\n",
       "    <tr>\n",
       "      <th>4</th>\n",
       "      <td>hpg_25291c542ebb3bc2</td>\n",
       "      <td>2016-01-01 17:00:00</td>\n",
       "      <td>2016-01-01 03:00:00</td>\n",
       "      <td>13</td>\n",
       "      <td>2016</td>\n",
       "      <td>1</td>\n",
       "      <td>4</td>\n",
       "      <td>2016-01-01</td>\n",
       "    </tr>\n",
       "  </tbody>\n",
       "</table>\n",
       "</div>"
      ],
      "text/plain": [
       "           hpg_store_id      visit_datetime    reserve_datetime  \\\n",
       "0  hpg_c63f6f42e088e50f 2016-01-01 11:00:00 2016-01-01 09:00:00   \n",
       "1  hpg_dac72789163a3f47 2016-01-01 13:00:00 2016-01-01 06:00:00   \n",
       "2  hpg_c8e24dcf51ca1eb5 2016-01-01 16:00:00 2016-01-01 14:00:00   \n",
       "3  hpg_24bb207e5fd49d4a 2016-01-01 17:00:00 2016-01-01 11:00:00   \n",
       "4  hpg_25291c542ebb3bc2 2016-01-01 17:00:00 2016-01-01 03:00:00   \n",
       "\n",
       "   reserve_visitors  visit_year  visit_month  visit_weekday  visit_date  \n",
       "0                 1        2016            1              4  2016-01-01  \n",
       "1                 3        2016            1              4  2016-01-01  \n",
       "2                 2        2016            1              4  2016-01-01  \n",
       "3                 5        2016            1              4  2016-01-01  \n",
       "4                13        2016            1              4  2016-01-01  "
      ]
     },
     "execution_count": 39,
     "metadata": {},
     "output_type": "execute_result"
    }
   ],
   "source": [
    "hpg_reserve[\"visit_year\"] = pd.DatetimeIndex(hpg_reserve['visit_datetime']).year\n",
    "hpg_reserve[\"visit_month\"] = pd.DatetimeIndex(hpg_reserve['visit_datetime']).month\n",
    "hpg_reserve[\"visit_weekday\"] = pd.DatetimeIndex(hpg_reserve['visit_datetime']).weekday\n",
    "hpg_reserve[\"visit_date\"] = pd.DatetimeIndex(hpg_reserve['visit_datetime']).date\n",
    "hpg_reserve.head()"
   ]
  },
  {
   "cell_type": "code",
   "execution_count": 40,
   "metadata": {},
   "outputs": [
    {
     "data": {
      "image/png": "[encoded data removed]",
      "text/plain": [
       "<Figure size 720x360 with 1 Axes>"
      ]
     },
     "metadata": {},
     "output_type": "display_data"
    }
   ],
   "source": [
    "temp = hpg_reserve.groupby('visit_weekday')['reserve_visitors'].sum()\n",
    "temp.plot(kind='bar',xlabel = \"Weekdays Monday=0 to Sunday=6\",ylabel=\"Total Reserved Visitors\",figsize=(10,5))\n",
    "plt.show()"
   ]
  },
  {
   "cell_type": "markdown",
   "metadata": {},
   "source": [
    "* Similar to AIR Reserve, Friday saturdays haved higher number of reserved visitors in HPG data as well."
   ]
  },
  {
   "cell_type": "code",
   "execution_count": 41,
   "metadata": {},
   "outputs": [
    {
     "data": {
      "image/png": "[encoded data removed]",
      "text/plain": [
       "<Figure size 720x360 with 1 Axes>"
      ]
     },
     "metadata": {},
     "output_type": "display_data"
    }
   ],
   "source": [
    "temp = hpg_reserve.groupby(['visit_year','visit_month'])['reserve_visitors'].sum()\n",
    "temp.plot(kind='bar',xlabel = \"Month January=1 to December=12\",ylabel=\"Total Reserved Visitors\",figsize=(10,5))\n",
    "plt.show()"
   ]
  },
  {
   "cell_type": "markdown",
   "metadata": {},
   "source": [
    "* Unlike AIR reserve data, here we can see some consistent data till November 2016 and then there is sudden jump after that."
   ]
  },
  {
   "cell_type": "code",
   "execution_count": 42,
   "metadata": {},
   "outputs": [
    {
     "data": {
      "image/png": "[encoded data removed]",
      "text/plain": [
       "<Figure size 1440x360 with 1 Axes>"
      ]
     },
     "metadata": {},
     "output_type": "display_data"
    }
   ],
   "source": [
    "temp = hpg_reserve.groupby('visit_date')['reserve_visitors'].sum()\n",
    "temp.plot(kind='line',xlabel=\"Year-Month\",ylabel=\"Total Reserved Visitors\",figsize=(20,5))\n",
    "plt.show()"
   ]
  },
  {
   "cell_type": "markdown",
   "metadata": {},
   "source": [
    "* Similar to AIR Data, there is sudden increase in total number of reserved visitor at the end of year 2016."
   ]
  },
  {
   "cell_type": "markdown",
   "metadata": {},
   "source": [
    "# HPG Store Info"
   ]
  },
  {
   "cell_type": "markdown",
   "metadata": {},
   "source": [
    "__hpg_store_info.csv__\n",
    "\n",
    "Column Name | Column Description\n",
    "-------------|:------------------\n",
    "hpg_store_id | restaurant id in the hpg system\n",
    "hpg_genre_name | genre in the hpg system\n",
    "hpg_area_name | area of the restaurant in the hpg system\n",
    "latitude | latitude\n",
    "longitude | longitude\n"
   ]
  },
  {
   "cell_type": "code",
   "execution_count": 43,
   "metadata": {},
   "outputs": [],
   "source": [
    "hpg_store_info = pd.read_csv('hpg_store_info.csv')"
   ]
  },
  {
   "cell_type": "code",
   "execution_count": 44,
   "metadata": {},
   "outputs": [
    {
     "name": "stdout",
     "output_type": "stream",
     "text": [
      "<class 'pandas.core.frame.DataFrame'>\n",
      "RangeIndex: 4690 entries, 0 to 4689\n",
      "Data columns (total 5 columns):\n",
      " #   Column          Non-Null Count  Dtype  \n",
      "---  ------          --------------  -----  \n",
      " 0   hpg_store_id    4690 non-null   object \n",
      " 1   hpg_genre_name  4690 non-null   object \n",
      " 2   hpg_area_name   4690 non-null   object \n",
      " 3   latitude        4690 non-null   float64\n",
      " 4   longitude       4690 non-null   float64\n",
      "dtypes: float64(2), object(3)\n",
      "memory usage: 183.3+ KB\n"
     ]
    }
   ],
   "source": [
    "hpg_store_info.info()"
   ]
  },
  {
   "cell_type": "code",
   "execution_count": 45,
   "metadata": {},
   "outputs": [
    {
     "data": {
      "text/html": [
       "<div>\n",
       "<style scoped>\n",
       "    .dataframe tbody tr th:only-of-type {\n",
       "        vertical-align: middle;\n",
       "    }\n",
       "\n",
       "    .dataframe tbody tr th {\n",
       "        vertical-align: top;\n",
       "    }\n",
       "\n",
       "    .dataframe thead th {\n",
       "        text-align: right;\n",
       "    }\n",
       "</style>\n",
       "<table border=\"1\" class=\"dataframe\">\n",
       "  <thead>\n",
       "    <tr style=\"text-align: right;\">\n",
       "      <th></th>\n",
       "      <th>hpg_store_id</th>\n",
       "      <th>hpg_genre_name</th>\n",
       "      <th>hpg_area_name</th>\n",
       "      <th>latitude</th>\n",
       "      <th>longitude</th>\n",
       "    </tr>\n",
       "  </thead>\n",
       "  <tbody>\n",
       "    <tr>\n",
       "      <th>0</th>\n",
       "      <td>hpg_6622b62385aec8bf</td>\n",
       "      <td>Japanese style</td>\n",
       "      <td>Tōkyō-to Setagaya-ku Taishidō</td>\n",
       "      <td>35.64</td>\n",
       "      <td>139.67</td>\n",
       "    </tr>\n",
       "    <tr>\n",
       "      <th>1</th>\n",
       "      <td>hpg_e9e068dd49c5fa00</td>\n",
       "      <td>Japanese style</td>\n",
       "      <td>Tōkyō-to Setagaya-ku Taishidō</td>\n",
       "      <td>35.64</td>\n",
       "      <td>139.67</td>\n",
       "    </tr>\n",
       "    <tr>\n",
       "      <th>2</th>\n",
       "      <td>hpg_2976f7acb4b3a3bc</td>\n",
       "      <td>Japanese style</td>\n",
       "      <td>Tōkyō-to Setagaya-ku Taishidō</td>\n",
       "      <td>35.64</td>\n",
       "      <td>139.67</td>\n",
       "    </tr>\n",
       "    <tr>\n",
       "      <th>3</th>\n",
       "      <td>hpg_e51a522e098f024c</td>\n",
       "      <td>Japanese style</td>\n",
       "      <td>Tōkyō-to Setagaya-ku Taishidō</td>\n",
       "      <td>35.64</td>\n",
       "      <td>139.67</td>\n",
       "    </tr>\n",
       "    <tr>\n",
       "      <th>4</th>\n",
       "      <td>hpg_e3d0e1519894f275</td>\n",
       "      <td>Japanese style</td>\n",
       "      <td>Tōkyō-to Setagaya-ku Taishidō</td>\n",
       "      <td>35.64</td>\n",
       "      <td>139.67</td>\n",
       "    </tr>\n",
       "    <tr>\n",
       "      <th>...</th>\n",
       "      <td>...</td>\n",
       "      <td>...</td>\n",
       "      <td>...</td>\n",
       "      <td>...</td>\n",
       "      <td>...</td>\n",
       "    </tr>\n",
       "    <tr>\n",
       "      <th>4685</th>\n",
       "      <td>hpg_c6ed353a48c7c93e</td>\n",
       "      <td>Sichuan food</td>\n",
       "      <td>Tōkyō-to Chiyoda-ku None</td>\n",
       "      <td>35.70</td>\n",
       "      <td>139.77</td>\n",
       "    </tr>\n",
       "    <tr>\n",
       "      <th>4686</th>\n",
       "      <td>hpg_a58d2423360b2fb4</td>\n",
       "      <td>Sichuan food</td>\n",
       "      <td>Tōkyō-to Minato-ku Roppongi</td>\n",
       "      <td>35.67</td>\n",
       "      <td>139.73</td>\n",
       "    </tr>\n",
       "    <tr>\n",
       "      <th>4687</th>\n",
       "      <td>hpg_d2021704076cdd70</td>\n",
       "      <td>Shanghai food</td>\n",
       "      <td>Tōkyō-to Chiyoda-ku None</td>\n",
       "      <td>35.70</td>\n",
       "      <td>139.77</td>\n",
       "    </tr>\n",
       "    <tr>\n",
       "      <th>4688</th>\n",
       "      <td>hpg_602472570d65e219</td>\n",
       "      <td>Spain/Mediterranean cuisine</td>\n",
       "      <td>Tōkyō-to Toshima-ku None</td>\n",
       "      <td>35.73</td>\n",
       "      <td>139.71</td>\n",
       "    </tr>\n",
       "    <tr>\n",
       "      <th>4689</th>\n",
       "      <td>hpg_11801306ce8bfb4f</td>\n",
       "      <td>Udon/Soba</td>\n",
       "      <td>Osaka Prefecture Osaka None</td>\n",
       "      <td>34.70</td>\n",
       "      <td>135.50</td>\n",
       "    </tr>\n",
       "  </tbody>\n",
       "</table>\n",
       "<p>4690 rows × 5 columns</p>\n",
       "</div>"
      ],
      "text/plain": [
       "              hpg_store_id               hpg_genre_name  \\\n",
       "0     hpg_6622b62385aec8bf               Japanese style   \n",
       "1     hpg_e9e068dd49c5fa00               Japanese style   \n",
       "2     hpg_2976f7acb4b3a3bc               Japanese style   \n",
       "3     hpg_e51a522e098f024c               Japanese style   \n",
       "4     hpg_e3d0e1519894f275               Japanese style   \n",
       "...                    ...                          ...   \n",
       "4685  hpg_c6ed353a48c7c93e                 Sichuan food   \n",
       "4686  hpg_a58d2423360b2fb4                 Sichuan food   \n",
       "4687  hpg_d2021704076cdd70                Shanghai food   \n",
       "4688  hpg_602472570d65e219  Spain/Mediterranean cuisine   \n",
       "4689  hpg_11801306ce8bfb4f                    Udon/Soba   \n",
       "\n",
       "                      hpg_area_name  latitude  longitude  \n",
       "0     Tōkyō-to Setagaya-ku Taishidō     35.64     139.67  \n",
       "1     Tōkyō-to Setagaya-ku Taishidō     35.64     139.67  \n",
       "2     Tōkyō-to Setagaya-ku Taishidō     35.64     139.67  \n",
       "3     Tōkyō-to Setagaya-ku Taishidō     35.64     139.67  \n",
       "4     Tōkyō-to Setagaya-ku Taishidō     35.64     139.67  \n",
       "...                             ...       ...        ...  \n",
       "4685       Tōkyō-to Chiyoda-ku None     35.70     139.77  \n",
       "4686    Tōkyō-to Minato-ku Roppongi     35.67     139.73  \n",
       "4687       Tōkyō-to Chiyoda-ku None     35.70     139.77  \n",
       "4688       Tōkyō-to Toshima-ku None     35.73     139.71  \n",
       "4689    Osaka Prefecture Osaka None     34.70     135.50  \n",
       "\n",
       "[4690 rows x 5 columns]"
      ]
     },
     "execution_count": 45,
     "metadata": {},
     "output_type": "execute_result"
    }
   ],
   "source": [
    "hpg_store_info"
   ]
  },
  {
   "cell_type": "code",
   "execution_count": 46,
   "metadata": {},
   "outputs": [
    {
     "data": {
      "text/plain": [
       "False"
      ]
     },
     "execution_count": 46,
     "metadata": {},
     "output_type": "execute_result"
    }
   ],
   "source": [
    "hpg_store_info.isnull().values.any()"
   ]
  },
  {
   "cell_type": "code",
   "execution_count": 47,
   "metadata": {},
   "outputs": [
    {
     "data": {
      "text/plain": [
       "False"
      ]
     },
     "execution_count": 47,
     "metadata": {},
     "output_type": "execute_result"
    }
   ],
   "source": [
    "hpg_store_info['hpg_store_id'].duplicated().any()"
   ]
  },
  {
   "cell_type": "code",
   "execution_count": 48,
   "metadata": {},
   "outputs": [
    {
     "name": "stdout",
     "output_type": "stream",
     "text": [
      "Number of unique restaurants in the hpg_store_info table :  4690\n"
     ]
    }
   ],
   "source": [
    "print('Number of unique restaurants in the hpg_store_info table : ', len(hpg_store_info['hpg_store_id'].unique()))"
   ]
  },
  {
   "cell_type": "markdown",
   "metadata": {},
   "source": [
    "* hpg_store_info file has __no null__ values, data is __clean__ and all hpg_store_id are __unique__"
   ]
  },
  {
   "cell_type": "code",
   "execution_count": 49,
   "metadata": {},
   "outputs": [
    {
     "data": {
      "image/png": "[encoded data removed]",
      "text/plain": [
       "<Figure size 720x360 with 1 Axes>"
      ]
     },
     "metadata": {},
     "output_type": "display_data"
    }
   ],
   "source": [
    "temp = hpg_store_info['hpg_genre_name'].value_counts()\n",
    "temp.nlargest(10).sort_values().plot(kind='barh',figsize=(10,5))\n",
    "plt.xlabel(\"Number of restaurants serving this genre\")\n",
    "plt.show()"
   ]
  },
  {
   "cell_type": "markdown",
   "metadata": {},
   "source": [
    "* Above is the ordering of top 10 __popular food genres__"
   ]
  },
  {
   "cell_type": "code",
   "execution_count": 50,
   "metadata": {},
   "outputs": [
    {
     "data": {
      "text/plain": [
       "Tōkyō-to Shinjuku-ku None              257\n",
       "Tōkyō-to Chūō-ku Ginza                 198\n",
       "Hyōgo-ken Kōbe-shi None                163\n",
       "Ōsaka-fu Ōsaka-shi Shinsaibashisuji    150\n",
       "Osaka Prefecture Osaka None            145\n",
       "                                      ... \n",
       "Niigata-ken Niigata-shi Kurumaba         2\n",
       "Niigata-ken Nagaoka-shi Rokusho          1\n",
       "Ōsaka-fu Minoo-shi Hanjo                 1\n",
       "Tōkyō-to Shinagawa-ku Koyama             1\n",
       "Hokkaidō Ashibetsu-shi None              1\n",
       "Name: hpg_area_name, Length: 119, dtype: int64"
      ]
     },
     "execution_count": 50,
     "metadata": {},
     "output_type": "execute_result"
    }
   ],
   "source": [
    "hpg_store_info.hpg_area_name.value_counts()"
   ]
  },
  {
   "cell_type": "code",
   "execution_count": 51,
   "metadata": {},
   "outputs": [
    {
     "data": {
      "text/html": [
       "<div>\n",
       "<style scoped>\n",
       "    .dataframe tbody tr th:only-of-type {\n",
       "        vertical-align: middle;\n",
       "    }\n",
       "\n",
       "    .dataframe tbody tr th {\n",
       "        vertical-align: top;\n",
       "    }\n",
       "\n",
       "    .dataframe thead th {\n",
       "        text-align: right;\n",
       "    }\n",
       "</style>\n",
       "<table border=\"1\" class=\"dataframe\">\n",
       "  <thead>\n",
       "    <tr style=\"text-align: right;\">\n",
       "      <th></th>\n",
       "      <th>hpg_store_id</th>\n",
       "      <th>hpg_genre_name</th>\n",
       "      <th>hpg_area_name</th>\n",
       "      <th>latitude</th>\n",
       "      <th>longitude</th>\n",
       "      <th>city</th>\n",
       "      <th>ward</th>\n",
       "      <th>neighborhood</th>\n",
       "    </tr>\n",
       "  </thead>\n",
       "  <tbody>\n",
       "    <tr>\n",
       "      <th>0</th>\n",
       "      <td>hpg_6622b62385aec8bf</td>\n",
       "      <td>Japanese style</td>\n",
       "      <td>Tōkyō-to Setagaya-ku Taishidō</td>\n",
       "      <td>35.64</td>\n",
       "      <td>139.67</td>\n",
       "      <td>Tōkyō-to</td>\n",
       "      <td>Setagaya-ku</td>\n",
       "      <td>Taishidō</td>\n",
       "    </tr>\n",
       "    <tr>\n",
       "      <th>1</th>\n",
       "      <td>hpg_e9e068dd49c5fa00</td>\n",
       "      <td>Japanese style</td>\n",
       "      <td>Tōkyō-to Setagaya-ku Taishidō</td>\n",
       "      <td>35.64</td>\n",
       "      <td>139.67</td>\n",
       "      <td>Tōkyō-to</td>\n",
       "      <td>Setagaya-ku</td>\n",
       "      <td>Taishidō</td>\n",
       "    </tr>\n",
       "    <tr>\n",
       "      <th>2</th>\n",
       "      <td>hpg_2976f7acb4b3a3bc</td>\n",
       "      <td>Japanese style</td>\n",
       "      <td>Tōkyō-to Setagaya-ku Taishidō</td>\n",
       "      <td>35.64</td>\n",
       "      <td>139.67</td>\n",
       "      <td>Tōkyō-to</td>\n",
       "      <td>Setagaya-ku</td>\n",
       "      <td>Taishidō</td>\n",
       "    </tr>\n",
       "    <tr>\n",
       "      <th>3</th>\n",
       "      <td>hpg_e51a522e098f024c</td>\n",
       "      <td>Japanese style</td>\n",
       "      <td>Tōkyō-to Setagaya-ku Taishidō</td>\n",
       "      <td>35.64</td>\n",
       "      <td>139.67</td>\n",
       "      <td>Tōkyō-to</td>\n",
       "      <td>Setagaya-ku</td>\n",
       "      <td>Taishidō</td>\n",
       "    </tr>\n",
       "    <tr>\n",
       "      <th>4</th>\n",
       "      <td>hpg_e3d0e1519894f275</td>\n",
       "      <td>Japanese style</td>\n",
       "      <td>Tōkyō-to Setagaya-ku Taishidō</td>\n",
       "      <td>35.64</td>\n",
       "      <td>139.67</td>\n",
       "      <td>Tōkyō-to</td>\n",
       "      <td>Setagaya-ku</td>\n",
       "      <td>Taishidō</td>\n",
       "    </tr>\n",
       "  </tbody>\n",
       "</table>\n",
       "</div>"
      ],
      "text/plain": [
       "           hpg_store_id  hpg_genre_name                  hpg_area_name  \\\n",
       "0  hpg_6622b62385aec8bf  Japanese style  Tōkyō-to Setagaya-ku Taishidō   \n",
       "1  hpg_e9e068dd49c5fa00  Japanese style  Tōkyō-to Setagaya-ku Taishidō   \n",
       "2  hpg_2976f7acb4b3a3bc  Japanese style  Tōkyō-to Setagaya-ku Taishidō   \n",
       "3  hpg_e51a522e098f024c  Japanese style  Tōkyō-to Setagaya-ku Taishidō   \n",
       "4  hpg_e3d0e1519894f275  Japanese style  Tōkyō-to Setagaya-ku Taishidō   \n",
       "\n",
       "   latitude  longitude      city         ward neighborhood  \n",
       "0     35.64     139.67  Tōkyō-to  Setagaya-ku     Taishidō  \n",
       "1     35.64     139.67  Tōkyō-to  Setagaya-ku     Taishidō  \n",
       "2     35.64     139.67  Tōkyō-to  Setagaya-ku     Taishidō  \n",
       "3     35.64     139.67  Tōkyō-to  Setagaya-ku     Taishidō  \n",
       "4     35.64     139.67  Tōkyō-to  Setagaya-ku     Taishidō  "
      ]
     },
     "execution_count": 51,
     "metadata": {},
     "output_type": "execute_result"
    }
   ],
   "source": [
    "hpg_store_info['city'] = hpg_store_info['hpg_area_name'].str.split().str[0]\n",
    "hpg_store_info['ward'] = hpg_store_info['hpg_area_name'].str.split().str[1]\n",
    "hpg_store_info['neighborhood'] = hpg_store_info['hpg_area_name'].str.split().str[2]\n",
    "hpg_store_info.head()"
   ]
  },
  {
   "cell_type": "code",
   "execution_count": 52,
   "metadata": {},
   "outputs": [
    {
     "data": {
      "image/png": "[encoded data removed]",
      "text/plain": [
       "<Figure size 720x360 with 1 Axes>"
      ]
     },
     "metadata": {},
     "output_type": "display_data"
    }
   ],
   "source": [
    "temp = hpg_store_info['city'].value_counts()\n",
    "temp.sort_values().plot(kind='barh',figsize=(10,5))\n",
    "plt.xlabel(\"Number of restaurants in the city\")\n",
    "plt.show()"
   ]
  },
  {
   "cell_type": "markdown",
   "metadata": {},
   "source": [
    "* City with most number of restaurants is Tokyo, Fukuoka, Osaka"
   ]
  },
  {
   "cell_type": "markdown",
   "metadata": {},
   "source": [
    "# Store ID Relation"
   ]
  },
  {
   "cell_type": "markdown",
   "metadata": {},
   "source": [
    "__store_id_relation.csv__\n",
    "\n",
    "Column Name | Column Description\n",
    "-------------|:------------------\n",
    "air_store_id | restaurant id in the air system\n",
    "hpg_store_id | restaurant id in the hpg system"
   ]
  },
  {
   "cell_type": "code",
   "execution_count": 53,
   "metadata": {},
   "outputs": [
    {
     "name": "stdout",
     "output_type": "stream",
     "text": [
      "<class 'pandas.core.frame.DataFrame'>\n",
      "RangeIndex: 150 entries, 0 to 149\n",
      "Data columns (total 2 columns):\n",
      " #   Column        Non-Null Count  Dtype \n",
      "---  ------        --------------  ----- \n",
      " 0   air_store_id  150 non-null    object\n",
      " 1   hpg_store_id  150 non-null    object\n",
      "dtypes: object(2)\n",
      "memory usage: 2.5+ KB\n"
     ]
    }
   ],
   "source": [
    "store_id_relation = pd.read_csv('store_id_relation.csv')\n",
    "store_id_relation.info()"
   ]
  },
  {
   "cell_type": "code",
   "execution_count": 54,
   "metadata": {},
   "outputs": [
    {
     "data": {
      "text/html": [
       "<div>\n",
       "<style scoped>\n",
       "    .dataframe tbody tr th:only-of-type {\n",
       "        vertical-align: middle;\n",
       "    }\n",
       "\n",
       "    .dataframe tbody tr th {\n",
       "        vertical-align: top;\n",
       "    }\n",
       "\n",
       "    .dataframe thead th {\n",
       "        text-align: right;\n",
       "    }\n",
       "</style>\n",
       "<table border=\"1\" class=\"dataframe\">\n",
       "  <thead>\n",
       "    <tr style=\"text-align: right;\">\n",
       "      <th></th>\n",
       "      <th>air_store_id</th>\n",
       "      <th>hpg_store_id</th>\n",
       "    </tr>\n",
       "  </thead>\n",
       "  <tbody>\n",
       "    <tr>\n",
       "      <th>0</th>\n",
       "      <td>air_63b13c56b7201bd9</td>\n",
       "      <td>hpg_4bc649e72e2a239a</td>\n",
       "    </tr>\n",
       "    <tr>\n",
       "      <th>1</th>\n",
       "      <td>air_a24bf50c3e90d583</td>\n",
       "      <td>hpg_c34b496d0305a809</td>\n",
       "    </tr>\n",
       "    <tr>\n",
       "      <th>2</th>\n",
       "      <td>air_c7f78b4f3cba33ff</td>\n",
       "      <td>hpg_cd8ae0d9bbd58ff9</td>\n",
       "    </tr>\n",
       "    <tr>\n",
       "      <th>3</th>\n",
       "      <td>air_947eb2cae4f3e8f2</td>\n",
       "      <td>hpg_de24ea49dc25d6b8</td>\n",
       "    </tr>\n",
       "    <tr>\n",
       "      <th>4</th>\n",
       "      <td>air_965b2e0cf4119003</td>\n",
       "      <td>hpg_653238a84804d8e7</td>\n",
       "    </tr>\n",
       "    <tr>\n",
       "      <th>...</th>\n",
       "      <td>...</td>\n",
       "      <td>...</td>\n",
       "    </tr>\n",
       "    <tr>\n",
       "      <th>145</th>\n",
       "      <td>air_b8925441167c3152</td>\n",
       "      <td>hpg_0cc0abae3a8b52de</td>\n",
       "    </tr>\n",
       "    <tr>\n",
       "      <th>146</th>\n",
       "      <td>air_f8233ad00755c35c</td>\n",
       "      <td>hpg_098e4dd30e54fee6</td>\n",
       "    </tr>\n",
       "    <tr>\n",
       "      <th>147</th>\n",
       "      <td>air_6607fe3671242ce3</td>\n",
       "      <td>hpg_1004356dc8ab69ec</td>\n",
       "    </tr>\n",
       "    <tr>\n",
       "      <th>148</th>\n",
       "      <td>air_ccd19a5bc5573ae5</td>\n",
       "      <td>hpg_df22bf146d2c7e19</td>\n",
       "    </tr>\n",
       "    <tr>\n",
       "      <th>149</th>\n",
       "      <td>air_465bddfed3353b23</td>\n",
       "      <td>hpg_23c5945dc1a72454</td>\n",
       "    </tr>\n",
       "  </tbody>\n",
       "</table>\n",
       "<p>150 rows × 2 columns</p>\n",
       "</div>"
      ],
      "text/plain": [
       "             air_store_id          hpg_store_id\n",
       "0    air_63b13c56b7201bd9  hpg_4bc649e72e2a239a\n",
       "1    air_a24bf50c3e90d583  hpg_c34b496d0305a809\n",
       "2    air_c7f78b4f3cba33ff  hpg_cd8ae0d9bbd58ff9\n",
       "3    air_947eb2cae4f3e8f2  hpg_de24ea49dc25d6b8\n",
       "4    air_965b2e0cf4119003  hpg_653238a84804d8e7\n",
       "..                    ...                   ...\n",
       "145  air_b8925441167c3152  hpg_0cc0abae3a8b52de\n",
       "146  air_f8233ad00755c35c  hpg_098e4dd30e54fee6\n",
       "147  air_6607fe3671242ce3  hpg_1004356dc8ab69ec\n",
       "148  air_ccd19a5bc5573ae5  hpg_df22bf146d2c7e19\n",
       "149  air_465bddfed3353b23  hpg_23c5945dc1a72454\n",
       "\n",
       "[150 rows x 2 columns]"
      ]
     },
     "execution_count": 54,
     "metadata": {},
     "output_type": "execute_result"
    }
   ],
   "source": [
    "store_id_relation"
   ]
  },
  {
   "cell_type": "markdown",
   "metadata": {},
   "source": [
    "* Store ID relation table contains mapping of restaurant names in AIR and HPG system\n",
    "* Point to be noted here is, that this relation has only 150 entries. And number of AIR / HPG restaurants are much more than that. So we'll have to be careful while merging these two. "
   ]
  },
  {
   "cell_type": "code",
   "execution_count": 55,
   "metadata": {},
   "outputs": [
    {
     "data": {
      "text/plain": [
       "False"
      ]
     },
     "execution_count": 55,
     "metadata": {},
     "output_type": "execute_result"
    }
   ],
   "source": [
    "store_id_relation.isnull().values.any()"
   ]
  },
  {
   "cell_type": "code",
   "execution_count": 56,
   "metadata": {},
   "outputs": [
    {
     "name": "stdout",
     "output_type": "stream",
     "text": [
      "Number of unique air_store_id in table :  150\n",
      "Number of unique hpg_store_id in table :  150\n"
     ]
    }
   ],
   "source": [
    "print('Number of unique air_store_id in table : ', len(store_id_relation['air_store_id'].unique()))\n",
    "print('Number of unique hpg_store_id in table : ', len(store_id_relation['hpg_store_id'].unique()))"
   ]
  },
  {
   "cell_type": "markdown",
   "metadata": {},
   "source": [
    "* Just to verify if there are no inconsistent mappings."
   ]
  },
  {
   "cell_type": "markdown",
   "metadata": {},
   "source": [
    "# Train CSV"
   ]
  },
  {
   "cell_type": "markdown",
   "metadata": {},
   "source": [
    "__train.csv__\n",
    "\n",
    "Column Name | Column Description\n",
    "-------------|:------------------\n",
    "air_store_id | restaurant id in the air system\n",
    "visit_date | date\n",
    "visitors | the number of visitors to the restaurant on the date"
   ]
  },
  {
   "cell_type": "code",
   "execution_count": 57,
   "metadata": {},
   "outputs": [],
   "source": [
    "train = pd.read_csv('train.csv')"
   ]
  },
  {
   "cell_type": "code",
   "execution_count": 58,
   "metadata": {},
   "outputs": [
    {
     "name": "stdout",
     "output_type": "stream",
     "text": [
      "<class 'pandas.core.frame.DataFrame'>\n",
      "RangeIndex: 239673 entries, 0 to 239672\n",
      "Data columns (total 3 columns):\n",
      " #   Column        Non-Null Count   Dtype \n",
      "---  ------        --------------   ----- \n",
      " 0   air_store_id  239673 non-null  object\n",
      " 1   visit_date    239673 non-null  object\n",
      " 2   visitors      239673 non-null  int64 \n",
      "dtypes: int64(1), object(2)\n",
      "memory usage: 5.5+ MB\n"
     ]
    }
   ],
   "source": [
    "train.info()"
   ]
  },
  {
   "cell_type": "code",
   "execution_count": 59,
   "metadata": {},
   "outputs": [],
   "source": [
    "train = pd.read_csv('train.csv',parse_dates=['visit_date'])"
   ]
  },
  {
   "cell_type": "code",
   "execution_count": 60,
   "metadata": {},
   "outputs": [
    {
     "data": {
      "text/html": [
       "<div>\n",
       "<style scoped>\n",
       "    .dataframe tbody tr th:only-of-type {\n",
       "        vertical-align: middle;\n",
       "    }\n",
       "\n",
       "    .dataframe tbody tr th {\n",
       "        vertical-align: top;\n",
       "    }\n",
       "\n",
       "    .dataframe thead th {\n",
       "        text-align: right;\n",
       "    }\n",
       "</style>\n",
       "<table border=\"1\" class=\"dataframe\">\n",
       "  <thead>\n",
       "    <tr style=\"text-align: right;\">\n",
       "      <th></th>\n",
       "      <th>air_store_id</th>\n",
       "      <th>visit_date</th>\n",
       "      <th>visitors</th>\n",
       "    </tr>\n",
       "  </thead>\n",
       "  <tbody>\n",
       "    <tr>\n",
       "      <th>0</th>\n",
       "      <td>air_e3020992d5fe5dfd</td>\n",
       "      <td>2016-07-01</td>\n",
       "      <td>21</td>\n",
       "    </tr>\n",
       "    <tr>\n",
       "      <th>1</th>\n",
       "      <td>air_e3020992d5fe5dfd</td>\n",
       "      <td>2016-07-02</td>\n",
       "      <td>19</td>\n",
       "    </tr>\n",
       "    <tr>\n",
       "      <th>2</th>\n",
       "      <td>air_e3020992d5fe5dfd</td>\n",
       "      <td>2016-07-04</td>\n",
       "      <td>8</td>\n",
       "    </tr>\n",
       "    <tr>\n",
       "      <th>3</th>\n",
       "      <td>air_e3020992d5fe5dfd</td>\n",
       "      <td>2016-07-05</td>\n",
       "      <td>11</td>\n",
       "    </tr>\n",
       "    <tr>\n",
       "      <th>4</th>\n",
       "      <td>air_e3020992d5fe5dfd</td>\n",
       "      <td>2016-07-06</td>\n",
       "      <td>16</td>\n",
       "    </tr>\n",
       "  </tbody>\n",
       "</table>\n",
       "</div>"
      ],
      "text/plain": [
       "           air_store_id visit_date  visitors\n",
       "0  air_e3020992d5fe5dfd 2016-07-01        21\n",
       "1  air_e3020992d5fe5dfd 2016-07-02        19\n",
       "2  air_e3020992d5fe5dfd 2016-07-04         8\n",
       "3  air_e3020992d5fe5dfd 2016-07-05        11\n",
       "4  air_e3020992d5fe5dfd 2016-07-06        16"
      ]
     },
     "execution_count": 60,
     "metadata": {},
     "output_type": "execute_result"
    }
   ],
   "source": [
    "train.head()"
   ]
  },
  {
   "cell_type": "code",
   "execution_count": 61,
   "metadata": {},
   "outputs": [
    {
     "name": "stdout",
     "output_type": "stream",
     "text": [
      "Number of unique restaurants in the training data :  829\n"
     ]
    }
   ],
   "source": [
    "print('Number of unique restaurants in the training data : ', len(train['air_store_id'].unique()))"
   ]
  },
  {
   "cell_type": "code",
   "execution_count": 62,
   "metadata": {},
   "outputs": [
    {
     "data": {
      "image/png": "[encoded data removed]",
      "text/plain": [
       "<Figure size 1440x360 with 1 Axes>"
      ]
     },
     "metadata": {},
     "output_type": "display_data"
    }
   ],
   "source": [
    "train.groupby('visit_date').sum().plot(figsize=(20,5))\n",
    "plt.show()"
   ]
  },
  {
   "cell_type": "code",
   "execution_count": 63,
   "metadata": {},
   "outputs": [
    {
     "data": {
      "text/plain": [
       "False"
      ]
     },
     "execution_count": 63,
     "metadata": {},
     "output_type": "execute_result"
    }
   ],
   "source": [
    "train.isnull().values.any()"
   ]
  },
  {
   "cell_type": "markdown",
   "metadata": {},
   "source": [
    "* There are no null values in training data"
   ]
  },
  {
   "cell_type": "code",
   "execution_count": 64,
   "metadata": {},
   "outputs": [
    {
     "data": {
      "text/plain": [
       "0      air_28064154614b2e6c\n",
       "1      air_6b15edd1b4fbb96a\n",
       "2      air_3e93f3c81008696d\n",
       "3      air_08cb3c4ee6cd6a22\n",
       "4      air_831658500aa7c846\n",
       "               ...         \n",
       "145    air_cb7467aed805e7fe\n",
       "146    air_8f3b563416efc6ad\n",
       "147    air_638c35eb25e53eea\n",
       "148    air_c759b6abeb552160\n",
       "149    air_5d7c744c3a2ef624\n",
       "Length: 150, dtype: object"
      ]
     },
     "execution_count": 64,
     "metadata": {},
     "output_type": "execute_result"
    }
   ],
   "source": [
    "pd.Series(list(set(train.air_store_id).intersection(set(store_id_relation.air_store_id))))"
   ]
  },
  {
   "cell_type": "code",
   "execution_count": 65,
   "metadata": {},
   "outputs": [
    {
     "data": {
      "text/plain": [
       "0      air_28064154614b2e6c\n",
       "1      air_6b15edd1b4fbb96a\n",
       "2      air_3e93f3c81008696d\n",
       "3      air_08cb3c4ee6cd6a22\n",
       "4      air_831658500aa7c846\n",
       "               ...         \n",
       "145    air_cb7467aed805e7fe\n",
       "146    air_8f3b563416efc6ad\n",
       "147    air_638c35eb25e53eea\n",
       "148    air_c759b6abeb552160\n",
       "149    air_5d7c744c3a2ef624\n",
       "Length: 150, dtype: object"
      ]
     },
     "execution_count": 65,
     "metadata": {},
     "output_type": "execute_result"
    }
   ],
   "source": [
    "pd.Series(list(set(air_store_info.air_store_id).intersection(set(store_id_relation.air_store_id))))"
   ]
  },
  {
   "cell_type": "code",
   "execution_count": 66,
   "metadata": {},
   "outputs": [
    {
     "data": {
      "text/plain": [
       "0      air_e483f5b3c4f310e0\n",
       "1      air_6ca1d941c8199a67\n",
       "2      air_04341b588bde96cd\n",
       "3      air_3c05c8f26c611eb9\n",
       "4      air_74cf22153214064c\n",
       "               ...         \n",
       "824    air_63a88d81295195ed\n",
       "825    air_f927b2da69a82341\n",
       "826    air_2a184c1745274b2b\n",
       "827    air_d3e7b5952cd09ccb\n",
       "828    air_2ac361b97630e2df\n",
       "Length: 829, dtype: object"
      ]
     },
     "execution_count": 66,
     "metadata": {},
     "output_type": "execute_result"
    }
   ],
   "source": [
    "pd.Series(list(set(air_store_info.air_store_id).intersection(set(train.air_store_id))))"
   ]
  },
  {
   "cell_type": "markdown",
   "metadata": {},
   "source": [
    "* As our training data contains all the air_store_id that are present in store_id_relation, we would need to merge all hpg data from hpg_reserve corresponding to these air_store_id in air_reserve data."
   ]
  },
  {
   "cell_type": "markdown",
   "metadata": {},
   "source": [
    "# Sample Submission CSV"
   ]
  },
  {
   "cell_type": "code",
   "execution_count": 67,
   "metadata": {},
   "outputs": [],
   "source": [
    "sample_submission = pd.read_csv('sample_submission.csv')"
   ]
  },
  {
   "cell_type": "code",
   "execution_count": 68,
   "metadata": {},
   "outputs": [
    {
     "name": "stdout",
     "output_type": "stream",
     "text": [
      "<class 'pandas.core.frame.DataFrame'>\n",
      "RangeIndex: 12435 entries, 0 to 12434\n",
      "Data columns (total 2 columns):\n",
      " #   Column    Non-Null Count  Dtype \n",
      "---  ------    --------------  ----- \n",
      " 0   id        12435 non-null  object\n",
      " 1   visitors  12435 non-null  int64 \n",
      "dtypes: int64(1), object(1)\n",
      "memory usage: 194.4+ KB\n"
     ]
    }
   ],
   "source": [
    "sample_submission.info()"
   ]
  },
  {
   "cell_type": "code",
   "execution_count": 69,
   "metadata": {},
   "outputs": [
    {
     "data": {
      "text/html": [
       "<div>\n",
       "<style scoped>\n",
       "    .dataframe tbody tr th:only-of-type {\n",
       "        vertical-align: middle;\n",
       "    }\n",
       "\n",
       "    .dataframe tbody tr th {\n",
       "        vertical-align: top;\n",
       "    }\n",
       "\n",
       "    .dataframe thead th {\n",
       "        text-align: right;\n",
       "    }\n",
       "</style>\n",
       "<table border=\"1\" class=\"dataframe\">\n",
       "  <thead>\n",
       "    <tr style=\"text-align: right;\">\n",
       "      <th></th>\n",
       "      <th>id</th>\n",
       "      <th>visitors</th>\n",
       "    </tr>\n",
       "  </thead>\n",
       "  <tbody>\n",
       "    <tr>\n",
       "      <th>0</th>\n",
       "      <td>air_e3020992d5fe5dfd_2017-04-06</td>\n",
       "      <td>0</td>\n",
       "    </tr>\n",
       "    <tr>\n",
       "      <th>1</th>\n",
       "      <td>air_e3020992d5fe5dfd_2017-04-07</td>\n",
       "      <td>0</td>\n",
       "    </tr>\n",
       "    <tr>\n",
       "      <th>2</th>\n",
       "      <td>air_e3020992d5fe5dfd_2017-04-08</td>\n",
       "      <td>0</td>\n",
       "    </tr>\n",
       "    <tr>\n",
       "      <th>3</th>\n",
       "      <td>air_e3020992d5fe5dfd_2017-04-10</td>\n",
       "      <td>0</td>\n",
       "    </tr>\n",
       "    <tr>\n",
       "      <th>4</th>\n",
       "      <td>air_e3020992d5fe5dfd_2017-04-11</td>\n",
       "      <td>0</td>\n",
       "    </tr>\n",
       "    <tr>\n",
       "      <th>...</th>\n",
       "      <td>...</td>\n",
       "      <td>...</td>\n",
       "    </tr>\n",
       "    <tr>\n",
       "      <th>12430</th>\n",
       "      <td>air_4ce7b17062a1bf73_2017-04-18</td>\n",
       "      <td>0</td>\n",
       "    </tr>\n",
       "    <tr>\n",
       "      <th>12431</th>\n",
       "      <td>air_4ce7b17062a1bf73_2017-04-19</td>\n",
       "      <td>0</td>\n",
       "    </tr>\n",
       "    <tr>\n",
       "      <th>12432</th>\n",
       "      <td>air_4ce7b17062a1bf73_2017-04-20</td>\n",
       "      <td>0</td>\n",
       "    </tr>\n",
       "    <tr>\n",
       "      <th>12433</th>\n",
       "      <td>air_4ce7b17062a1bf73_2017-04-21</td>\n",
       "      <td>0</td>\n",
       "    </tr>\n",
       "    <tr>\n",
       "      <th>12434</th>\n",
       "      <td>air_4ce7b17062a1bf73_2017-04-22</td>\n",
       "      <td>0</td>\n",
       "    </tr>\n",
       "  </tbody>\n",
       "</table>\n",
       "<p>12435 rows × 2 columns</p>\n",
       "</div>"
      ],
      "text/plain": [
       "                                    id  visitors\n",
       "0      air_e3020992d5fe5dfd_2017-04-06         0\n",
       "1      air_e3020992d5fe5dfd_2017-04-07         0\n",
       "2      air_e3020992d5fe5dfd_2017-04-08         0\n",
       "3      air_e3020992d5fe5dfd_2017-04-10         0\n",
       "4      air_e3020992d5fe5dfd_2017-04-11         0\n",
       "...                                ...       ...\n",
       "12430  air_4ce7b17062a1bf73_2017-04-18         0\n",
       "12431  air_4ce7b17062a1bf73_2017-04-19         0\n",
       "12432  air_4ce7b17062a1bf73_2017-04-20         0\n",
       "12433  air_4ce7b17062a1bf73_2017-04-21         0\n",
       "12434  air_4ce7b17062a1bf73_2017-04-22         0\n",
       "\n",
       "[12435 rows x 2 columns]"
      ]
     },
     "execution_count": 69,
     "metadata": {},
     "output_type": "execute_result"
    }
   ],
   "source": [
    "sample_submission"
   ]
  },
  {
   "cell_type": "code",
   "execution_count": 70,
   "metadata": {},
   "outputs": [
    {
     "data": {
      "text/plain": [
       "True"
      ]
     },
     "execution_count": 70,
     "metadata": {},
     "output_type": "execute_result"
    }
   ],
   "source": [
    "#Extracting air store id from sample submission and checking if all id are present in our training data set.\n",
    "pd.DataFrame(sample_submission.id.str.rsplit('_',1))['id'].str[0].isin(train.air_store_id).all()"
   ]
  },
  {
   "cell_type": "markdown",
   "metadata": {},
   "source": [
    "* All the air store id present in Sample Submission csv are present in Training data\n",
    "* This means we have data to predict visitors for every restaurant in sample submission and there are no missing restaurants in training set or metadata"
   ]
  },
  {
   "cell_type": "markdown",
   "metadata": {},
   "source": [
    "## Next task is to merge the metadata with the training data set, and to collectively analyse the information (EDA) and identifying important features to keep for training a model"
   ]
  },
  {
   "cell_type": "markdown",
   "metadata": {},
   "source": [
    "General intuition for important features that might be useful for prediction : \n",
    "* Month, weekday\n",
    "* Type of cuisine genre served by restaurant (Genre)\n",
    "* City / Area / Ward\n",
    "* holiday flag\n",
    "* Number of reservations made in advance vs number of actual visitors"
   ]
  },
  {
   "cell_type": "code",
   "execution_count": null,
   "metadata": {},
   "outputs": [],
   "source": []
  }
 ],
 "metadata": {
  "kernelspec": {
   "display_name": "Python 3",
   "language": "python",
   "name": "python3"
  },
  "language_info": {
   "codemirror_mode": {
    "name": "ipython",
    "version": 3
   },
   "file_extension": ".py",
   "mimetype": "text/x-python",
   "name": "python",
   "nbconvert_exporter": "python",
   "pygments_lexer": "ipython3",
   "version": "3.7.1"
  }
 },
 "nbformat": 4,
 "nbformat_minor": 4
}
