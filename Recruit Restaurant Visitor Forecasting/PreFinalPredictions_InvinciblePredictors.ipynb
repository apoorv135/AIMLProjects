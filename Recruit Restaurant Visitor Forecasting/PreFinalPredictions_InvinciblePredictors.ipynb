{
 "cells": [
  {
   "cell_type": "code",
   "execution_count": 32,
   "metadata": {},
   "outputs": [],
   "source": [
    "#Invincible_Predictors_Model_Building_And_Predictions\n",
    "\n",
    "#Importing Libraries\n",
    "import pandas as pd\n",
    "import numpy as np"
   ]
  },
  {
   "cell_type": "code",
   "execution_count": 33,
   "metadata": {},
   "outputs": [],
   "source": [
    "#Importing CSV Files\n",
    "air_reserve = pd.read_csv('air_reserve.csv',parse_dates=['visit_datetime', 'reserve_datetime'])\n",
    "air_store_info = pd.read_csv('air_store_info.csv')\n",
    "store_id_relation = pd.read_csv('store_id_relation.csv')\n",
    "date_info = pd.read_csv('date_info.csv',parse_dates=['calendar_date'])\n",
    "train = pd.read_csv('train.csv',parse_dates=['visit_date'])\n",
    "sample_submission = pd.read_csv('sample_submission.csv')"
   ]
  },
  {
   "cell_type": "code",
   "execution_count": 34,
   "metadata": {},
   "outputs": [],
   "source": [
    "#dropping the day of week column as we would already extract it from datetime value.\n",
    "date_info.drop(columns=['day_of_week'],inplace=True)\n",
    "\n",
    "#renaming date column so that it will be useful while merging the holiday flag with training data.\n",
    "date_info.rename(columns={'calendar_date':'visit_date'},inplace=True)"
   ]
  },
  {
   "cell_type": "code",
   "execution_count": 35,
   "metadata": {},
   "outputs": [],
   "source": [
    "#preparing final training dataset by merging relevant features to the train data.\n",
    "train_data = train.merge(air_store_info, how='left', on='air_store_id')\n",
    "\n",
    "#Extracting year month weekday as new features\n",
    "train_data[\"visit_year\"] = pd.DatetimeIndex(train_data['visit_date']).year\n",
    "train_data[\"visit_month\"] = pd.DatetimeIndex(train_data['visit_date']).month\n",
    "train_data[\"visit_weekday\"] = pd.DatetimeIndex(train_data['visit_date']).weekday\n",
    "\n",
    "#Extracting city ward neighbourhood as new features\n",
    "train_data['city'] = train_data['air_area_name'].str.split().str[0]\n",
    "train_data['ward'] = train_data['air_area_name'].str.split().str[1]\n",
    "train_data['neighborhood'] = train_data['air_area_name'].str.split().str[2]\n",
    "\n",
    "#Add holiday flag from date info table\n",
    "train_data = train_data.merge(date_info,how='left',on='visit_date')\n",
    "\n",
    "#Making all object type columns as categorical columns.\n",
    "for col in train_data.columns:\n",
    "    if train_data[col].dtype == 'object':\n",
    "        train_data[col] = train_data[col].astype('category')\n",
    "        \n",
    "#Implementing labelencoding\n",
    "from sklearn.preprocessing import LabelEncoder\n",
    "le = LabelEncoder()\n",
    "\n",
    "for feature in ['city','ward','neighborhood','holiday_flg','air_genre_name','air_area_name']:\n",
    "    train_data[feature] = le.fit_transform(train_data[feature].astype(str))\n",
    "\n",
    "    \n",
    "# #Implementing OneHotEncoding using get dummies method\n",
    "train_data = pd.concat([train_data,pd.get_dummies(train_data['holiday_flg'], prefix='holiday_flg')],axis=1)\n",
    "train_data.drop(['holiday_flg'],axis=1, inplace=True)    "
   ]
  },
  {
   "cell_type": "code",
   "execution_count": 36,
   "metadata": {},
   "outputs": [],
   "source": [
    "#Adding mean median and min max visitors column grouped by air store id and weekday\n",
    "\n",
    "group_by_cols = ['air_store_id','visit_weekday']\n",
    "visitor_stats = train_data\\\n",
    "                .groupby(group_by_cols)\\\n",
    "                ['visitors']\\\n",
    "                .agg(['mean','median', 'min','max'])\\\n",
    "                .rename(columns=lambda colname: str(colname)+'_visitors')\\\n",
    "                .reset_index()"
   ]
  },
  {
   "cell_type": "code",
   "execution_count": 37,
   "metadata": {},
   "outputs": [
    {
     "data": {
      "text/html": [
       "<div>\n",
       "<style scoped>\n",
       "    .dataframe tbody tr th:only-of-type {\n",
       "        vertical-align: middle;\n",
       "    }\n",
       "\n",
       "    .dataframe tbody tr th {\n",
       "        vertical-align: top;\n",
       "    }\n",
       "\n",
       "    .dataframe thead th {\n",
       "        text-align: right;\n",
       "    }\n",
       "</style>\n",
       "<table border=\"1\" class=\"dataframe\">\n",
       "  <thead>\n",
       "    <tr style=\"text-align: right;\">\n",
       "      <th></th>\n",
       "      <th>air_store_id</th>\n",
       "      <th>visit_weekday</th>\n",
       "      <th>mean_visitors</th>\n",
       "      <th>median_visitors</th>\n",
       "      <th>min_visitors</th>\n",
       "      <th>max_visitors</th>\n",
       "    </tr>\n",
       "  </thead>\n",
       "  <tbody>\n",
       "    <tr>\n",
       "      <th>0</th>\n",
       "      <td>air_00a91d42b08b08d9</td>\n",
       "      <td>0</td>\n",
       "      <td>22.727273</td>\n",
       "      <td>20.0</td>\n",
       "      <td>1.0</td>\n",
       "      <td>47.0</td>\n",
       "    </tr>\n",
       "    <tr>\n",
       "      <th>1</th>\n",
       "      <td>air_00a91d42b08b08d9</td>\n",
       "      <td>1</td>\n",
       "      <td>23.578947</td>\n",
       "      <td>24.0</td>\n",
       "      <td>1.0</td>\n",
       "      <td>41.0</td>\n",
       "    </tr>\n",
       "    <tr>\n",
       "      <th>2</th>\n",
       "      <td>air_00a91d42b08b08d9</td>\n",
       "      <td>2</td>\n",
       "      <td>28.243243</td>\n",
       "      <td>28.0</td>\n",
       "      <td>15.0</td>\n",
       "      <td>52.0</td>\n",
       "    </tr>\n",
       "    <tr>\n",
       "      <th>3</th>\n",
       "      <td>air_00a91d42b08b08d9</td>\n",
       "      <td>3</td>\n",
       "      <td>29.542857</td>\n",
       "      <td>30.0</td>\n",
       "      <td>15.0</td>\n",
       "      <td>47.0</td>\n",
       "    </tr>\n",
       "    <tr>\n",
       "      <th>4</th>\n",
       "      <td>air_00a91d42b08b08d9</td>\n",
       "      <td>4</td>\n",
       "      <td>36.459459</td>\n",
       "      <td>35.0</td>\n",
       "      <td>20.0</td>\n",
       "      <td>57.0</td>\n",
       "    </tr>\n",
       "    <tr>\n",
       "      <th>...</th>\n",
       "      <td>...</td>\n",
       "      <td>...</td>\n",
       "      <td>...</td>\n",
       "      <td>...</td>\n",
       "      <td>...</td>\n",
       "      <td>...</td>\n",
       "    </tr>\n",
       "    <tr>\n",
       "      <th>5798</th>\n",
       "      <td>air_fff68b929994bfbd</td>\n",
       "      <td>2</td>\n",
       "      <td>4.666667</td>\n",
       "      <td>4.0</td>\n",
       "      <td>1.0</td>\n",
       "      <td>12.0</td>\n",
       "    </tr>\n",
       "    <tr>\n",
       "      <th>5799</th>\n",
       "      <td>air_fff68b929994bfbd</td>\n",
       "      <td>3</td>\n",
       "      <td>4.871795</td>\n",
       "      <td>5.0</td>\n",
       "      <td>1.0</td>\n",
       "      <td>12.0</td>\n",
       "    </tr>\n",
       "    <tr>\n",
       "      <th>5800</th>\n",
       "      <td>air_fff68b929994bfbd</td>\n",
       "      <td>4</td>\n",
       "      <td>5.682927</td>\n",
       "      <td>5.0</td>\n",
       "      <td>1.0</td>\n",
       "      <td>17.0</td>\n",
       "    </tr>\n",
       "    <tr>\n",
       "      <th>5801</th>\n",
       "      <td>air_fff68b929994bfbd</td>\n",
       "      <td>5</td>\n",
       "      <td>7.605263</td>\n",
       "      <td>7.0</td>\n",
       "      <td>2.0</td>\n",
       "      <td>18.0</td>\n",
       "    </tr>\n",
       "    <tr>\n",
       "      <th>5802</th>\n",
       "      <td>air_fff68b929994bfbd</td>\n",
       "      <td>6</td>\n",
       "      <td>3.857143</td>\n",
       "      <td>3.0</td>\n",
       "      <td>1.0</td>\n",
       "      <td>10.0</td>\n",
       "    </tr>\n",
       "  </tbody>\n",
       "</table>\n",
       "<p>5803 rows × 6 columns</p>\n",
       "</div>"
      ],
      "text/plain": [
       "              air_store_id  visit_weekday  mean_visitors  median_visitors  \\\n",
       "0     air_00a91d42b08b08d9              0      22.727273             20.0   \n",
       "1     air_00a91d42b08b08d9              1      23.578947             24.0   \n",
       "2     air_00a91d42b08b08d9              2      28.243243             28.0   \n",
       "3     air_00a91d42b08b08d9              3      29.542857             30.0   \n",
       "4     air_00a91d42b08b08d9              4      36.459459             35.0   \n",
       "...                    ...            ...            ...              ...   \n",
       "5798  air_fff68b929994bfbd              2       4.666667              4.0   \n",
       "5799  air_fff68b929994bfbd              3       4.871795              5.0   \n",
       "5800  air_fff68b929994bfbd              4       5.682927              5.0   \n",
       "5801  air_fff68b929994bfbd              5       7.605263              7.0   \n",
       "5802  air_fff68b929994bfbd              6       3.857143              3.0   \n",
       "\n",
       "      min_visitors  max_visitors  \n",
       "0              1.0          47.0  \n",
       "1              1.0          41.0  \n",
       "2             15.0          52.0  \n",
       "3             15.0          47.0  \n",
       "4             20.0          57.0  \n",
       "...            ...           ...  \n",
       "5798           1.0          12.0  \n",
       "5799           1.0          12.0  \n",
       "5800           1.0          17.0  \n",
       "5801           2.0          18.0  \n",
       "5802           1.0          10.0  \n",
       "\n",
       "[5803 rows x 6 columns]"
      ]
     },
     "execution_count": 37,
     "metadata": {},
     "output_type": "execute_result"
    }
   ],
   "source": [
    "visitor_stats"
   ]
  },
  {
   "cell_type": "code",
   "execution_count": 38,
   "metadata": {},
   "outputs": [],
   "source": [
    "#Merging the train data with visitor stats\n",
    "train_data = train_data.merge(visitor_stats,how='left',on=group_by_cols)"
   ]
  },
  {
   "cell_type": "code",
   "execution_count": 39,
   "metadata": {},
   "outputs": [],
   "source": [
    "#Storing the trained data features in pickle\n",
    "train_data.to_pickle(\"./PreFinalPred_FullTrainData.pkl\")"
   ]
  },
  {
   "cell_type": "code",
   "execution_count": 40,
   "metadata": {},
   "outputs": [],
   "source": [
    "#Performing exact same operations, applied on train data, for the sample submission data\n",
    "\n",
    "sample_submission = pd.read_csv('sample_submission.csv')\n",
    "sample_submission['air_store_id'] = sample_submission['id'].str.rsplit('_',1).str[0]\n",
    "sample_submission['visit_date'] = sample_submission['id'].str.rsplit('_',1).str[1]\n",
    "sample_submission.visit_date = pd.to_datetime(sample_submission.visit_date)\n",
    "sample_submission[\"visit_year\"] = pd.DatetimeIndex(sample_submission['visit_date']).year\n",
    "sample_submission[\"visit_month\"] = pd.DatetimeIndex(sample_submission['visit_date']).month\n",
    "sample_submission[\"visit_weekday\"] = pd.DatetimeIndex(sample_submission['visit_date']).weekday\n",
    "sample_submission = sample_submission.merge(air_store_info, how='left', on='air_store_id')\n",
    "sample_submission.drop(columns=['id'],inplace=True)\n",
    "sample_submission['city'] = sample_submission['air_area_name'].str.split().str[0]\n",
    "sample_submission['ward'] = sample_submission['air_area_name'].str.split().str[1]\n",
    "sample_submission['neighborhood'] = sample_submission['air_area_name'].str.split().str[2]\n",
    "sample_submission = sample_submission.merge(date_info,how='left',on='visit_date')\n",
    "\n",
    "#Making all object type columns as categorical columns.\n",
    "for col in sample_submission.columns:\n",
    "    if sample_submission[col].dtype == 'object':\n",
    "        sample_submission[col] = sample_submission[col].astype('category')\n",
    "\n",
    "#Implementing labelencoding\n",
    "from sklearn.preprocessing import LabelEncoder\n",
    "le = LabelEncoder()\n",
    "\n",
    "for feature in ['city','ward','neighborhood','holiday_flg','air_genre_name','air_area_name']:\n",
    "    sample_submission[feature] = le.fit_transform(sample_submission[feature].astype(str))\n",
    "\n",
    "sample_submission = pd.concat([sample_submission,pd.get_dummies(sample_submission['holiday_flg'], prefix='holiday_flg')],axis=1)\n",
    "sample_submission.drop(['holiday_flg'],axis=1, inplace=True)\n",
    "\n",
    "sample_submission=sample_submission[['air_store_id', 'visit_date', 'visitors', 'air_genre_name',\n",
    "       'air_area_name','latitude', 'longitude','visit_year', 'visit_month', 'visit_weekday', 'city',\n",
    "       'ward', 'neighborhood', 'holiday_flg_0', 'holiday_flg_1']]\n"
   ]
  },
  {
   "cell_type": "code",
   "execution_count": 41,
   "metadata": {},
   "outputs": [],
   "source": [
    "sample_submission = sample_submission.merge(visitor_stats,how='left',on=group_by_cols)"
   ]
  },
  {
   "cell_type": "code",
   "execution_count": 42,
   "metadata": {},
   "outputs": [
    {
     "name": "stderr",
     "output_type": "stream",
     "text": [
      "D:\\ANACONDA3\\envs\\venv\\lib\\site-packages\\ipykernel_launcher.py:1: FutureWarning: DataFrame.mean and DataFrame.median with numeric_only=None will include datetime64 and datetime64tz columns in a future version.\n",
      "  \"\"\"Entry point for launching an IPython kernel.\n"
     ]
    }
   ],
   "source": [
    "sample_submission = sample_submission.fillna(train_data.mean())"
   ]
  },
  {
   "cell_type": "code",
   "execution_count": 43,
   "metadata": {},
   "outputs": [],
   "source": [
    "sample_submission.to_pickle(\"./sample_submission.pkl\")"
   ]
  },
  {
   "cell_type": "code",
   "execution_count": 44,
   "metadata": {},
   "outputs": [],
   "source": [
    "# Create evaluation function (the competition uses Root Mean Square Log Error)\n",
    "from sklearn.metrics import mean_squared_log_error\n",
    "\n",
    "def rmsle(y_test, y_preds):\n",
    "    return np.sqrt(mean_squared_log_error(y_test, y_preds))"
   ]
  },
  {
   "cell_type": "code",
   "execution_count": 45,
   "metadata": {},
   "outputs": [],
   "source": [
    "#Specifying the training and test data, here test data is our predictions in sample submission.\n",
    "X_train = train_data.drop([\"air_store_id\",\"visit_date\",\"visitors\",\"air_area_name\",\"longitude\"], axis=1)\n",
    "Y_train = train_data[\"visitors\"]\n",
    "\n",
    "X_test = sample_submission.drop([\"air_store_id\",\"visit_date\",\"visitors\",\"air_area_name\",\"longitude\"], axis=1)\n",
    "y_test = sample_submission[\"visitors\"]"
   ]
  },
  {
   "cell_type": "code",
   "execution_count": 46,
   "metadata": {},
   "outputs": [
    {
     "name": "stdout",
     "output_type": "stream",
     "text": [
      "<class 'pandas.core.frame.DataFrame'>\n",
      "Int64Index: 239673 entries, 0 to 239672\n",
      "Data columns (total 14 columns):\n",
      " #   Column           Non-Null Count   Dtype  \n",
      "---  ------           --------------   -----  \n",
      " 0   air_genre_name   239673 non-null  int32  \n",
      " 1   latitude         239673 non-null  float64\n",
      " 2   visit_year       239673 non-null  int64  \n",
      " 3   visit_month      239673 non-null  int64  \n",
      " 4   visit_weekday    239673 non-null  int64  \n",
      " 5   city             239673 non-null  int32  \n",
      " 6   ward             239673 non-null  int32  \n",
      " 7   neighborhood     239673 non-null  int32  \n",
      " 8   holiday_flg_0    239673 non-null  uint8  \n",
      " 9   holiday_flg_1    239673 non-null  uint8  \n",
      " 10  mean_visitors    239673 non-null  float64\n",
      " 11  median_visitors  239673 non-null  float64\n",
      " 12  min_visitors     239673 non-null  float64\n",
      " 13  max_visitors     239673 non-null  float64\n",
      "dtypes: float64(5), int32(4), int64(3), uint8(2)\n",
      "memory usage: 20.6 MB\n"
     ]
    }
   ],
   "source": [
    "X_train.info()"
   ]
  },
  {
   "cell_type": "code",
   "execution_count": 47,
   "metadata": {},
   "outputs": [
    {
     "data": {
      "text/plain": [
       "array([10.35217133, 15.47652515, 12.9667967 , ...,  7.37359979,\n",
       "        8.76314381,  7.24427385])"
      ]
     },
     "execution_count": 47,
     "metadata": {},
     "output_type": "execute_result"
    }
   ],
   "source": [
    "#Modelling Linear regression\n",
    "from sklearn.linear_model import LinearRegression\n",
    "lr_model = LinearRegression()\n",
    "lr_model.fit(X_train, Y_train)\n",
    "y_preds_lr=lr_model.predict(X_test)\n",
    "y_preds_lr"
   ]
  },
  {
   "cell_type": "code",
   "execution_count": 48,
   "metadata": {},
   "outputs": [
    {
     "data": {
      "text/plain": [
       "array([10.8, 16.6, 12.6, ..., 10.3,  8.9,  7.5])"
      ]
     },
     "execution_count": 48,
     "metadata": {},
     "output_type": "execute_result"
    }
   ],
   "source": [
    "#Modelling KNeighbors regression\n",
    "from sklearn.neighbors import KNeighborsRegressor\n",
    "knr_model = KNeighborsRegressor(n_jobs=-1, n_neighbors=10)\n",
    "knr_model.fit(X_train, Y_train)\n",
    "y_preds_knr=knr_model.predict(X_test)\n",
    "y_preds_knr"
   ]
  },
  {
   "cell_type": "code",
   "execution_count": 54,
   "metadata": {},
   "outputs": [
    {
     "data": {
      "text/plain": [
       "array([12.15815023, 15.87885469, 12.12582352, ...,  8.41997062,\n",
       "       10.36516211,  7.99060629])"
      ]
     },
     "execution_count": 54,
     "metadata": {},
     "output_type": "execute_result"
    }
   ],
   "source": [
    "#Modelling Random Forest regression\n",
    "from sklearn.ensemble import RandomForestRegressor\n",
    "\n",
    "rfrmodel = RandomForestRegressor(n_estimators=200, min_samples_leaf=5,\n",
    "                                 min_samples_split=15,\n",
    "                                 max_features=1, n_jobs=-1, \n",
    "                                 )\n",
    "\n",
    "rfrmodel.fit(X_train, Y_train)\n",
    "y_preds_rfr=rfrmodel.predict(X_test)\n",
    "y_preds_rfr"
   ]
  },
  {
   "cell_type": "code",
   "execution_count": 55,
   "metadata": {},
   "outputs": [],
   "source": [
    "final_submission = pd.read_csv('sample_submission.csv')"
   ]
  },
  {
   "cell_type": "code",
   "execution_count": 56,
   "metadata": {},
   "outputs": [],
   "source": [
    "final_submission['visitors']=y_preds_rfr"
   ]
  },
  {
   "cell_type": "code",
   "execution_count": 57,
   "metadata": {},
   "outputs": [
    {
     "data": {
      "text/html": [
       "<div>\n",
       "<style scoped>\n",
       "    .dataframe tbody tr th:only-of-type {\n",
       "        vertical-align: middle;\n",
       "    }\n",
       "\n",
       "    .dataframe tbody tr th {\n",
       "        vertical-align: top;\n",
       "    }\n",
       "\n",
       "    .dataframe thead th {\n",
       "        text-align: right;\n",
       "    }\n",
       "</style>\n",
       "<table border=\"1\" class=\"dataframe\">\n",
       "  <thead>\n",
       "    <tr style=\"text-align: right;\">\n",
       "      <th></th>\n",
       "      <th>id</th>\n",
       "      <th>visitors</th>\n",
       "    </tr>\n",
       "  </thead>\n",
       "  <tbody>\n",
       "    <tr>\n",
       "      <th>0</th>\n",
       "      <td>air_e3020992d5fe5dfd_2017-04-06</td>\n",
       "      <td>12.158150</td>\n",
       "    </tr>\n",
       "    <tr>\n",
       "      <th>1</th>\n",
       "      <td>air_e3020992d5fe5dfd_2017-04-07</td>\n",
       "      <td>15.878855</td>\n",
       "    </tr>\n",
       "    <tr>\n",
       "      <th>2</th>\n",
       "      <td>air_e3020992d5fe5dfd_2017-04-08</td>\n",
       "      <td>12.125824</td>\n",
       "    </tr>\n",
       "    <tr>\n",
       "      <th>3</th>\n",
       "      <td>air_e3020992d5fe5dfd_2017-04-10</td>\n",
       "      <td>10.307418</td>\n",
       "    </tr>\n",
       "    <tr>\n",
       "      <th>4</th>\n",
       "      <td>air_e3020992d5fe5dfd_2017-04-11</td>\n",
       "      <td>10.666235</td>\n",
       "    </tr>\n",
       "    <tr>\n",
       "      <th>...</th>\n",
       "      <td>...</td>\n",
       "      <td>...</td>\n",
       "    </tr>\n",
       "    <tr>\n",
       "      <th>12430</th>\n",
       "      <td>air_4ce7b17062a1bf73_2017-04-18</td>\n",
       "      <td>6.811946</td>\n",
       "    </tr>\n",
       "    <tr>\n",
       "      <th>12431</th>\n",
       "      <td>air_4ce7b17062a1bf73_2017-04-19</td>\n",
       "      <td>9.162706</td>\n",
       "    </tr>\n",
       "    <tr>\n",
       "      <th>12432</th>\n",
       "      <td>air_4ce7b17062a1bf73_2017-04-20</td>\n",
       "      <td>8.419971</td>\n",
       "    </tr>\n",
       "    <tr>\n",
       "      <th>12433</th>\n",
       "      <td>air_4ce7b17062a1bf73_2017-04-21</td>\n",
       "      <td>10.365162</td>\n",
       "    </tr>\n",
       "    <tr>\n",
       "      <th>12434</th>\n",
       "      <td>air_4ce7b17062a1bf73_2017-04-22</td>\n",
       "      <td>7.990606</td>\n",
       "    </tr>\n",
       "  </tbody>\n",
       "</table>\n",
       "<p>12435 rows × 2 columns</p>\n",
       "</div>"
      ],
      "text/plain": [
       "                                    id   visitors\n",
       "0      air_e3020992d5fe5dfd_2017-04-06  12.158150\n",
       "1      air_e3020992d5fe5dfd_2017-04-07  15.878855\n",
       "2      air_e3020992d5fe5dfd_2017-04-08  12.125824\n",
       "3      air_e3020992d5fe5dfd_2017-04-10  10.307418\n",
       "4      air_e3020992d5fe5dfd_2017-04-11  10.666235\n",
       "...                                ...        ...\n",
       "12430  air_4ce7b17062a1bf73_2017-04-18   6.811946\n",
       "12431  air_4ce7b17062a1bf73_2017-04-19   9.162706\n",
       "12432  air_4ce7b17062a1bf73_2017-04-20   8.419971\n",
       "12433  air_4ce7b17062a1bf73_2017-04-21  10.365162\n",
       "12434  air_4ce7b17062a1bf73_2017-04-22   7.990606\n",
       "\n",
       "[12435 rows x 2 columns]"
      ]
     },
     "execution_count": 57,
     "metadata": {},
     "output_type": "execute_result"
    }
   ],
   "source": [
    "final_submission"
   ]
  },
  {
   "cell_type": "code",
   "execution_count": 58,
   "metadata": {},
   "outputs": [],
   "source": [
    "final_submission.to_csv('prediction_rfr.csv', index=False)"
   ]
  },
  {
   "cell_type": "code",
   "execution_count": null,
   "metadata": {},
   "outputs": [],
   "source": []
  },
  {
   "cell_type": "code",
   "execution_count": null,
   "metadata": {},
   "outputs": [],
   "source": []
  }
 ],
 "metadata": {
  "kernelspec": {
   "display_name": "Python 3",
   "language": "python",
   "name": "python3"
  },
  "language_info": {
   "codemirror_mode": {
    "name": "ipython",
    "version": 3
   },
   "file_extension": ".py",
   "mimetype": "text/x-python",
   "name": "python",
   "nbconvert_exporter": "python",
   "pygments_lexer": "ipython3",
   "version": "3.7.1"
  }
 },
 "nbformat": 4,
 "nbformat_minor": 4
}
